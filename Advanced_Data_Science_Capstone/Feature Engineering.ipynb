{
    "cells": [
        {
            "cell_type": "markdown",
            "metadata": {},
            "source": "# Feature Engineering\n\n### Student: David Anim-Addo\n\n### Course: IBM Advanced Datascience Capstone\n\n---"
        },
        {
            "cell_type": "code",
            "execution_count": 118,
            "metadata": {},
            "outputs": [],
            "source": "# import the required libraries for feature engineering\nimport pandas as pd\nimport numpy as np\n"
        },
        {
            "cell_type": "markdown",
            "metadata": {},
            "source": "## Load the data for feature engineering "
        },
        {
            "cell_type": "code",
            "execution_count": 119,
            "metadata": {},
            "outputs": [
                {
                    "data": {
                        "text/html": "<div>\n<style scoped>\n    .dataframe tbody tr th:only-of-type {\n        vertical-align: middle;\n    }\n\n    .dataframe tbody tr th {\n        vertical-align: top;\n    }\n\n    .dataframe thead th {\n        text-align: right;\n    }\n</style>\n<table border=\"1\" class=\"dataframe\">\n  <thead>\n    <tr style=\"text-align: right;\">\n      <th></th>\n      <th>Province/State</th>\n      <th>Country/Region</th>\n      <th>Lat</th>\n      <th>Long</th>\n      <th>1/22/20</th>\n      <th>1/23/20</th>\n      <th>1/24/20</th>\n      <th>1/25/20</th>\n      <th>1/26/20</th>\n      <th>1/27/20</th>\n      <th>...</th>\n      <th>4/4/20</th>\n      <th>4/5/20</th>\n      <th>4/6/20</th>\n      <th>4/7/20</th>\n      <th>4/8/20</th>\n      <th>4/9/20</th>\n      <th>4/10/20</th>\n      <th>4/11/20</th>\n      <th>4/12/20</th>\n      <th>4/13/20</th>\n    </tr>\n  </thead>\n  <tbody>\n    <tr>\n      <th>0</th>\n      <td>NaN</td>\n      <td>Afghanistan</td>\n      <td>33.0000</td>\n      <td>65.0000</td>\n      <td>0</td>\n      <td>0</td>\n      <td>0</td>\n      <td>0</td>\n      <td>0</td>\n      <td>0</td>\n      <td>...</td>\n      <td>299</td>\n      <td>349</td>\n      <td>367</td>\n      <td>423</td>\n      <td>444</td>\n      <td>484</td>\n      <td>521</td>\n      <td>555</td>\n      <td>607</td>\n      <td>665</td>\n    </tr>\n    <tr>\n      <th>1</th>\n      <td>NaN</td>\n      <td>Albania</td>\n      <td>41.1533</td>\n      <td>20.1683</td>\n      <td>0</td>\n      <td>0</td>\n      <td>0</td>\n      <td>0</td>\n      <td>0</td>\n      <td>0</td>\n      <td>...</td>\n      <td>333</td>\n      <td>361</td>\n      <td>377</td>\n      <td>383</td>\n      <td>400</td>\n      <td>409</td>\n      <td>416</td>\n      <td>433</td>\n      <td>446</td>\n      <td>467</td>\n    </tr>\n    <tr>\n      <th>2</th>\n      <td>NaN</td>\n      <td>Algeria</td>\n      <td>28.0339</td>\n      <td>1.6596</td>\n      <td>0</td>\n      <td>0</td>\n      <td>0</td>\n      <td>0</td>\n      <td>0</td>\n      <td>0</td>\n      <td>...</td>\n      <td>1251</td>\n      <td>1320</td>\n      <td>1423</td>\n      <td>1468</td>\n      <td>1572</td>\n      <td>1666</td>\n      <td>1761</td>\n      <td>1825</td>\n      <td>1914</td>\n      <td>1983</td>\n    </tr>\n    <tr>\n      <th>3</th>\n      <td>NaN</td>\n      <td>Andorra</td>\n      <td>42.5063</td>\n      <td>1.5218</td>\n      <td>0</td>\n      <td>0</td>\n      <td>0</td>\n      <td>0</td>\n      <td>0</td>\n      <td>0</td>\n      <td>...</td>\n      <td>466</td>\n      <td>501</td>\n      <td>525</td>\n      <td>545</td>\n      <td>564</td>\n      <td>583</td>\n      <td>601</td>\n      <td>601</td>\n      <td>638</td>\n      <td>646</td>\n    </tr>\n    <tr>\n      <th>4</th>\n      <td>NaN</td>\n      <td>Angola</td>\n      <td>-11.2027</td>\n      <td>17.8739</td>\n      <td>0</td>\n      <td>0</td>\n      <td>0</td>\n      <td>0</td>\n      <td>0</td>\n      <td>0</td>\n      <td>...</td>\n      <td>10</td>\n      <td>14</td>\n      <td>16</td>\n      <td>17</td>\n      <td>19</td>\n      <td>19</td>\n      <td>19</td>\n      <td>19</td>\n      <td>19</td>\n      <td>19</td>\n    </tr>\n  </tbody>\n</table>\n<p>5 rows \u00d7 87 columns</p>\n</div>",
                        "text/plain": "  Province/State Country/Region      Lat     Long  1/22/20  1/23/20  1/24/20  \\\n0            NaN    Afghanistan  33.0000  65.0000        0        0        0   \n1            NaN        Albania  41.1533  20.1683        0        0        0   \n2            NaN        Algeria  28.0339   1.6596        0        0        0   \n3            NaN        Andorra  42.5063   1.5218        0        0        0   \n4            NaN         Angola -11.2027  17.8739        0        0        0   \n\n   1/25/20  1/26/20  1/27/20  ...  4/4/20  4/5/20  4/6/20  4/7/20  4/8/20  \\\n0        0        0        0  ...     299     349     367     423     444   \n1        0        0        0  ...     333     361     377     383     400   \n2        0        0        0  ...    1251    1320    1423    1468    1572   \n3        0        0        0  ...     466     501     525     545     564   \n4        0        0        0  ...      10      14      16      17      19   \n\n   4/9/20  4/10/20  4/11/20  4/12/20  4/13/20  \n0     484      521      555      607      665  \n1     409      416      433      446      467  \n2    1666     1761     1825     1914     1983  \n3     583      601      601      638      646  \n4      19       19       19       19       19  \n\n[5 rows x 87 columns]"
                    },
                    "execution_count": 119,
                    "metadata": {},
                    "output_type": "execute_result"
                }
            ],
            "source": "# The code was removed by Watson Studio for sharing."
        },
        {
            "cell_type": "code",
            "execution_count": 120,
            "metadata": {},
            "outputs": [
                {
                    "data": {
                        "text/html": "<div>\n<style scoped>\n    .dataframe tbody tr th:only-of-type {\n        vertical-align: middle;\n    }\n\n    .dataframe tbody tr th {\n        vertical-align: top;\n    }\n\n    .dataframe thead th {\n        text-align: right;\n    }\n</style>\n<table border=\"1\" class=\"dataframe\">\n  <thead>\n    <tr style=\"text-align: right;\">\n      <th></th>\n      <th>Province/State</th>\n      <th>Country/Region</th>\n      <th>Lat</th>\n      <th>Long</th>\n      <th>1/22/20</th>\n      <th>1/23/20</th>\n      <th>1/24/20</th>\n      <th>1/25/20</th>\n      <th>1/26/20</th>\n      <th>1/27/20</th>\n      <th>...</th>\n      <th>4/4/20</th>\n      <th>4/5/20</th>\n      <th>4/6/20</th>\n      <th>4/7/20</th>\n      <th>4/8/20</th>\n      <th>4/9/20</th>\n      <th>4/10/20</th>\n      <th>4/11/20</th>\n      <th>4/12/20</th>\n      <th>4/13/20</th>\n    </tr>\n  </thead>\n  <tbody>\n    <tr>\n      <th>0</th>\n      <td>NaN</td>\n      <td>Afghanistan</td>\n      <td>33.0000</td>\n      <td>65.0000</td>\n      <td>0</td>\n      <td>0</td>\n      <td>0</td>\n      <td>0</td>\n      <td>0</td>\n      <td>0</td>\n      <td>...</td>\n      <td>7</td>\n      <td>7</td>\n      <td>11</td>\n      <td>14</td>\n      <td>14</td>\n      <td>15</td>\n      <td>15</td>\n      <td>18</td>\n      <td>18</td>\n      <td>21</td>\n    </tr>\n    <tr>\n      <th>1</th>\n      <td>NaN</td>\n      <td>Albania</td>\n      <td>41.1533</td>\n      <td>20.1683</td>\n      <td>0</td>\n      <td>0</td>\n      <td>0</td>\n      <td>0</td>\n      <td>0</td>\n      <td>0</td>\n      <td>...</td>\n      <td>20</td>\n      <td>20</td>\n      <td>21</td>\n      <td>22</td>\n      <td>22</td>\n      <td>23</td>\n      <td>23</td>\n      <td>23</td>\n      <td>23</td>\n      <td>23</td>\n    </tr>\n    <tr>\n      <th>2</th>\n      <td>NaN</td>\n      <td>Algeria</td>\n      <td>28.0339</td>\n      <td>1.6596</td>\n      <td>0</td>\n      <td>0</td>\n      <td>0</td>\n      <td>0</td>\n      <td>0</td>\n      <td>0</td>\n      <td>...</td>\n      <td>130</td>\n      <td>152</td>\n      <td>173</td>\n      <td>193</td>\n      <td>205</td>\n      <td>235</td>\n      <td>256</td>\n      <td>275</td>\n      <td>293</td>\n      <td>313</td>\n    </tr>\n    <tr>\n      <th>3</th>\n      <td>NaN</td>\n      <td>Andorra</td>\n      <td>42.5063</td>\n      <td>1.5218</td>\n      <td>0</td>\n      <td>0</td>\n      <td>0</td>\n      <td>0</td>\n      <td>0</td>\n      <td>0</td>\n      <td>...</td>\n      <td>17</td>\n      <td>18</td>\n      <td>21</td>\n      <td>22</td>\n      <td>23</td>\n      <td>25</td>\n      <td>26</td>\n      <td>26</td>\n      <td>29</td>\n      <td>29</td>\n    </tr>\n    <tr>\n      <th>4</th>\n      <td>NaN</td>\n      <td>Angola</td>\n      <td>-11.2027</td>\n      <td>17.8739</td>\n      <td>0</td>\n      <td>0</td>\n      <td>0</td>\n      <td>0</td>\n      <td>0</td>\n      <td>0</td>\n      <td>...</td>\n      <td>2</td>\n      <td>2</td>\n      <td>2</td>\n      <td>2</td>\n      <td>2</td>\n      <td>2</td>\n      <td>2</td>\n      <td>2</td>\n      <td>2</td>\n      <td>2</td>\n    </tr>\n  </tbody>\n</table>\n<p>5 rows \u00d7 87 columns</p>\n</div>",
                        "text/plain": "  Province/State Country/Region      Lat     Long  1/22/20  1/23/20  1/24/20  \\\n0            NaN    Afghanistan  33.0000  65.0000        0        0        0   \n1            NaN        Albania  41.1533  20.1683        0        0        0   \n2            NaN        Algeria  28.0339   1.6596        0        0        0   \n3            NaN        Andorra  42.5063   1.5218        0        0        0   \n4            NaN         Angola -11.2027  17.8739        0        0        0   \n\n   1/25/20  1/26/20  1/27/20  ...  4/4/20  4/5/20  4/6/20  4/7/20  4/8/20  \\\n0        0        0        0  ...       7       7      11      14      14   \n1        0        0        0  ...      20      20      21      22      22   \n2        0        0        0  ...     130     152     173     193     205   \n3        0        0        0  ...      17      18      21      22      23   \n4        0        0        0  ...       2       2       2       2       2   \n\n   4/9/20  4/10/20  4/11/20  4/12/20  4/13/20  \n0      15       15       18       18       21  \n1      23       23       23       23       23  \n2     235      256      275      293      313  \n3      25       26       26       29       29  \n4       2        2        2        2        2  \n\n[5 rows x 87 columns]"
                    },
                    "execution_count": 120,
                    "metadata": {},
                    "output_type": "execute_result"
                }
            ],
            "source": "# The code was removed by Watson Studio for sharing."
        },
        {
            "cell_type": "code",
            "execution_count": 121,
            "metadata": {},
            "outputs": [
                {
                    "data": {
                        "text/html": "<div>\n<style scoped>\n    .dataframe tbody tr th:only-of-type {\n        vertical-align: middle;\n    }\n\n    .dataframe tbody tr th {\n        vertical-align: top;\n    }\n\n    .dataframe thead th {\n        text-align: right;\n    }\n</style>\n<table border=\"1\" class=\"dataframe\">\n  <thead>\n    <tr style=\"text-align: right;\">\n      <th></th>\n      <th>Province/State</th>\n      <th>Country/Region</th>\n      <th>Lat</th>\n      <th>Long</th>\n      <th>1/22/20</th>\n      <th>1/23/20</th>\n      <th>1/24/20</th>\n      <th>1/25/20</th>\n      <th>1/26/20</th>\n      <th>1/27/20</th>\n      <th>...</th>\n      <th>4/4/20</th>\n      <th>4/5/20</th>\n      <th>4/6/20</th>\n      <th>4/7/20</th>\n      <th>4/8/20</th>\n      <th>4/9/20</th>\n      <th>4/10/20</th>\n      <th>4/11/20</th>\n      <th>4/12/20</th>\n      <th>4/13/20</th>\n    </tr>\n  </thead>\n  <tbody>\n    <tr>\n      <th>0</th>\n      <td>NaN</td>\n      <td>Afghanistan</td>\n      <td>33.0000</td>\n      <td>65.0000</td>\n      <td>0</td>\n      <td>0</td>\n      <td>0</td>\n      <td>0</td>\n      <td>0</td>\n      <td>0</td>\n      <td>...</td>\n      <td>10</td>\n      <td>15</td>\n      <td>18</td>\n      <td>18</td>\n      <td>29</td>\n      <td>32</td>\n      <td>32</td>\n      <td>32</td>\n      <td>32</td>\n      <td>32</td>\n    </tr>\n    <tr>\n      <th>1</th>\n      <td>NaN</td>\n      <td>Albania</td>\n      <td>41.1533</td>\n      <td>20.1683</td>\n      <td>0</td>\n      <td>0</td>\n      <td>0</td>\n      <td>0</td>\n      <td>0</td>\n      <td>0</td>\n      <td>...</td>\n      <td>99</td>\n      <td>104</td>\n      <td>116</td>\n      <td>131</td>\n      <td>154</td>\n      <td>165</td>\n      <td>182</td>\n      <td>197</td>\n      <td>217</td>\n      <td>232</td>\n    </tr>\n    <tr>\n      <th>2</th>\n      <td>NaN</td>\n      <td>Algeria</td>\n      <td>28.0339</td>\n      <td>1.6596</td>\n      <td>0</td>\n      <td>0</td>\n      <td>0</td>\n      <td>0</td>\n      <td>0</td>\n      <td>0</td>\n      <td>...</td>\n      <td>90</td>\n      <td>90</td>\n      <td>90</td>\n      <td>113</td>\n      <td>237</td>\n      <td>347</td>\n      <td>405</td>\n      <td>460</td>\n      <td>591</td>\n      <td>601</td>\n    </tr>\n    <tr>\n      <th>3</th>\n      <td>NaN</td>\n      <td>Andorra</td>\n      <td>42.5063</td>\n      <td>1.5218</td>\n      <td>0</td>\n      <td>0</td>\n      <td>0</td>\n      <td>0</td>\n      <td>0</td>\n      <td>0</td>\n      <td>...</td>\n      <td>21</td>\n      <td>26</td>\n      <td>31</td>\n      <td>39</td>\n      <td>52</td>\n      <td>58</td>\n      <td>71</td>\n      <td>71</td>\n      <td>128</td>\n      <td>128</td>\n    </tr>\n    <tr>\n      <th>4</th>\n      <td>NaN</td>\n      <td>Angola</td>\n      <td>-11.2027</td>\n      <td>17.8739</td>\n      <td>0</td>\n      <td>0</td>\n      <td>0</td>\n      <td>0</td>\n      <td>0</td>\n      <td>0</td>\n      <td>...</td>\n      <td>2</td>\n      <td>2</td>\n      <td>2</td>\n      <td>2</td>\n      <td>2</td>\n      <td>2</td>\n      <td>2</td>\n      <td>4</td>\n      <td>4</td>\n      <td>4</td>\n    </tr>\n  </tbody>\n</table>\n<p>5 rows \u00d7 87 columns</p>\n</div>",
                        "text/plain": "  Province/State Country/Region      Lat     Long  1/22/20  1/23/20  1/24/20  \\\n0            NaN    Afghanistan  33.0000  65.0000        0        0        0   \n1            NaN        Albania  41.1533  20.1683        0        0        0   \n2            NaN        Algeria  28.0339   1.6596        0        0        0   \n3            NaN        Andorra  42.5063   1.5218        0        0        0   \n4            NaN         Angola -11.2027  17.8739        0        0        0   \n\n   1/25/20  1/26/20  1/27/20  ...  4/4/20  4/5/20  4/6/20  4/7/20  4/8/20  \\\n0        0        0        0  ...      10      15      18      18      29   \n1        0        0        0  ...      99     104     116     131     154   \n2        0        0        0  ...      90      90      90     113     237   \n3        0        0        0  ...      21      26      31      39      52   \n4        0        0        0  ...       2       2       2       2       2   \n\n   4/9/20  4/10/20  4/11/20  4/12/20  4/13/20  \n0      32       32       32       32       32  \n1     165      182      197      217      232  \n2     347      405      460      591      601  \n3      58       71       71      128      128  \n4       2        2        4        4        4  \n\n[5 rows x 87 columns]"
                    },
                    "execution_count": 121,
                    "metadata": {},
                    "output_type": "execute_result"
                }
            ],
            "source": "# The code was removed by Watson Studio for sharing."
        },
        {
            "cell_type": "code",
            "execution_count": 122,
            "metadata": {},
            "outputs": [
                {
                    "data": {
                        "text/html": "<div>\n<style scoped>\n    .dataframe tbody tr th:only-of-type {\n        vertical-align: middle;\n    }\n\n    .dataframe tbody tr th {\n        vertical-align: top;\n    }\n\n    .dataframe thead th {\n        text-align: right;\n    }\n</style>\n<table border=\"1\" class=\"dataframe\">\n  <thead>\n    <tr style=\"text-align: right;\">\n      <th></th>\n      <th>Country (or dependency)</th>\n      <th>Population (2020)</th>\n      <th>Yearly Change</th>\n      <th>Net Change</th>\n      <th>Density (P/Km\u00b2)</th>\n      <th>Land Area (Km\u00b2)</th>\n      <th>Migrants (net)</th>\n      <th>Fert. Rate</th>\n      <th>Med. Age</th>\n      <th>Urban Pop %</th>\n      <th>World Share</th>\n    </tr>\n  </thead>\n  <tbody>\n    <tr>\n      <th>0</th>\n      <td>China</td>\n      <td>1438116346</td>\n      <td>0.39 %</td>\n      <td>5540090</td>\n      <td>153</td>\n      <td>9388211</td>\n      <td>-348399.0</td>\n      <td>1.7</td>\n      <td>38</td>\n      <td>61 %</td>\n      <td>18.47 %</td>\n    </tr>\n    <tr>\n      <th>1</th>\n      <td>India</td>\n      <td>1377011281</td>\n      <td>0.99 %</td>\n      <td>13586631</td>\n      <td>464</td>\n      <td>2973190</td>\n      <td>-532687.0</td>\n      <td>2.2</td>\n      <td>28</td>\n      <td>35 %</td>\n      <td>17.70 %</td>\n    </tr>\n    <tr>\n      <th>2</th>\n      <td>United States</td>\n      <td>330578810</td>\n      <td>0.59 %</td>\n      <td>1937734</td>\n      <td>36</td>\n      <td>9147420</td>\n      <td>954806.0</td>\n      <td>1.8</td>\n      <td>38</td>\n      <td>83 %</td>\n      <td>4.25 %</td>\n    </tr>\n    <tr>\n      <th>3</th>\n      <td>Indonesia</td>\n      <td>272884327</td>\n      <td>1.07 %</td>\n      <td>2898047</td>\n      <td>151</td>\n      <td>1811570</td>\n      <td>-98955.0</td>\n      <td>2.3</td>\n      <td>30</td>\n      <td>56 %</td>\n      <td>3.51 %</td>\n    </tr>\n    <tr>\n      <th>4</th>\n      <td>Pakistan</td>\n      <td>219922471</td>\n      <td>2.00 %</td>\n      <td>4327022</td>\n      <td>287</td>\n      <td>770880</td>\n      <td>-233379.0</td>\n      <td>3.6</td>\n      <td>23</td>\n      <td>35 %</td>\n      <td>2.83 %</td>\n    </tr>\n  </tbody>\n</table>\n</div>",
                        "text/plain": "  Country (or dependency)  Population (2020) Yearly Change  Net Change  \\\n0                   China         1438116346        0.39 %     5540090   \n1                   India         1377011281        0.99 %    13586631   \n2           United States          330578810        0.59 %     1937734   \n3               Indonesia          272884327        1.07 %     2898047   \n4                Pakistan          219922471        2.00 %     4327022   \n\n   Density (P/Km\u00b2)  Land Area (Km\u00b2)  Migrants (net) Fert. Rate Med. Age  \\\n0              153          9388211       -348399.0        1.7       38   \n1              464          2973190       -532687.0        2.2       28   \n2               36          9147420        954806.0        1.8       38   \n3              151          1811570        -98955.0        2.3       30   \n4              287           770880       -233379.0        3.6       23   \n\n  Urban Pop % World Share  \n0        61 %     18.47 %  \n1        35 %     17.70 %  \n2        83 %      4.25 %  \n3        56 %      3.51 %  \n4        35 %      2.83 %  "
                    },
                    "execution_count": 122,
                    "metadata": {},
                    "output_type": "execute_result"
                }
            ],
            "source": "# The code was removed by Watson Studio for sharing."
        },
        {
            "cell_type": "code",
            "execution_count": 123,
            "metadata": {},
            "outputs": [
                {
                    "name": "stdout",
                    "output_type": "stream",
                    "text": "(264, 87) (264, 87) (250, 87) (235, 11)\n"
                }
            ],
            "source": "print(df_confirm_glb.shape, df_death_glb.shape, df_recover_glb.shape, df_pop_glb.shape)"
        },
        {
            "cell_type": "markdown",
            "metadata": {},
            "source": "## Prepare the data for feature engineering"
        },
        {
            "cell_type": "code",
            "execution_count": 124,
            "metadata": {},
            "outputs": [],
            "source": "def dropcol(df: pd.DataFrame) -> pd.DataFrame:\n    '''drops the selected columns from each dataframe'''\n    df.drop(['Province/State','Lat','Long'], axis=1, inplace=True)\n    return df"
        },
        {
            "cell_type": "code",
            "execution_count": 125,
            "metadata": {},
            "outputs": [
                {
                    "data": {
                        "text/html": "<div>\n<style scoped>\n    .dataframe tbody tr th:only-of-type {\n        vertical-align: middle;\n    }\n\n    .dataframe tbody tr th {\n        vertical-align: top;\n    }\n\n    .dataframe thead th {\n        text-align: right;\n    }\n</style>\n<table border=\"1\" class=\"dataframe\">\n  <thead>\n    <tr style=\"text-align: right;\">\n      <th></th>\n      <th>Country/Region</th>\n      <th>1/22/20</th>\n      <th>1/23/20</th>\n      <th>1/24/20</th>\n      <th>1/25/20</th>\n      <th>1/26/20</th>\n      <th>1/27/20</th>\n      <th>1/28/20</th>\n      <th>1/29/20</th>\n      <th>1/30/20</th>\n      <th>...</th>\n      <th>4/4/20</th>\n      <th>4/5/20</th>\n      <th>4/6/20</th>\n      <th>4/7/20</th>\n      <th>4/8/20</th>\n      <th>4/9/20</th>\n      <th>4/10/20</th>\n      <th>4/11/20</th>\n      <th>4/12/20</th>\n      <th>4/13/20</th>\n    </tr>\n  </thead>\n  <tbody>\n    <tr>\n      <th>0</th>\n      <td>Afghanistan</td>\n      <td>0</td>\n      <td>0</td>\n      <td>0</td>\n      <td>0</td>\n      <td>0</td>\n      <td>0</td>\n      <td>0</td>\n      <td>0</td>\n      <td>0</td>\n      <td>...</td>\n      <td>299</td>\n      <td>349</td>\n      <td>367</td>\n      <td>423</td>\n      <td>444</td>\n      <td>484</td>\n      <td>521</td>\n      <td>555</td>\n      <td>607</td>\n      <td>665</td>\n    </tr>\n    <tr>\n      <th>1</th>\n      <td>Albania</td>\n      <td>0</td>\n      <td>0</td>\n      <td>0</td>\n      <td>0</td>\n      <td>0</td>\n      <td>0</td>\n      <td>0</td>\n      <td>0</td>\n      <td>0</td>\n      <td>...</td>\n      <td>333</td>\n      <td>361</td>\n      <td>377</td>\n      <td>383</td>\n      <td>400</td>\n      <td>409</td>\n      <td>416</td>\n      <td>433</td>\n      <td>446</td>\n      <td>467</td>\n    </tr>\n    <tr>\n      <th>2</th>\n      <td>Algeria</td>\n      <td>0</td>\n      <td>0</td>\n      <td>0</td>\n      <td>0</td>\n      <td>0</td>\n      <td>0</td>\n      <td>0</td>\n      <td>0</td>\n      <td>0</td>\n      <td>...</td>\n      <td>1251</td>\n      <td>1320</td>\n      <td>1423</td>\n      <td>1468</td>\n      <td>1572</td>\n      <td>1666</td>\n      <td>1761</td>\n      <td>1825</td>\n      <td>1914</td>\n      <td>1983</td>\n    </tr>\n    <tr>\n      <th>3</th>\n      <td>Andorra</td>\n      <td>0</td>\n      <td>0</td>\n      <td>0</td>\n      <td>0</td>\n      <td>0</td>\n      <td>0</td>\n      <td>0</td>\n      <td>0</td>\n      <td>0</td>\n      <td>...</td>\n      <td>466</td>\n      <td>501</td>\n      <td>525</td>\n      <td>545</td>\n      <td>564</td>\n      <td>583</td>\n      <td>601</td>\n      <td>601</td>\n      <td>638</td>\n      <td>646</td>\n    </tr>\n    <tr>\n      <th>4</th>\n      <td>Angola</td>\n      <td>0</td>\n      <td>0</td>\n      <td>0</td>\n      <td>0</td>\n      <td>0</td>\n      <td>0</td>\n      <td>0</td>\n      <td>0</td>\n      <td>0</td>\n      <td>...</td>\n      <td>10</td>\n      <td>14</td>\n      <td>16</td>\n      <td>17</td>\n      <td>19</td>\n      <td>19</td>\n      <td>19</td>\n      <td>19</td>\n      <td>19</td>\n      <td>19</td>\n    </tr>\n  </tbody>\n</table>\n<p>5 rows \u00d7 84 columns</p>\n</div>",
                        "text/plain": "  Country/Region  1/22/20  1/23/20  1/24/20  1/25/20  1/26/20  1/27/20  \\\n0    Afghanistan        0        0        0        0        0        0   \n1        Albania        0        0        0        0        0        0   \n2        Algeria        0        0        0        0        0        0   \n3        Andorra        0        0        0        0        0        0   \n4         Angola        0        0        0        0        0        0   \n\n   1/28/20  1/29/20  1/30/20  ...  4/4/20  4/5/20  4/6/20  4/7/20  4/8/20  \\\n0        0        0        0  ...     299     349     367     423     444   \n1        0        0        0  ...     333     361     377     383     400   \n2        0        0        0  ...    1251    1320    1423    1468    1572   \n3        0        0        0  ...     466     501     525     545     564   \n4        0        0        0  ...      10      14      16      17      19   \n\n   4/9/20  4/10/20  4/11/20  4/12/20  4/13/20  \n0     484      521      555      607      665  \n1     409      416      433      446      467  \n2    1666     1761     1825     1914     1983  \n3     583      601      601      638      646  \n4      19       19       19       19       19  \n\n[5 rows x 84 columns]"
                    },
                    "execution_count": 125,
                    "metadata": {},
                    "output_type": "execute_result"
                }
            ],
            "source": "dropcol(df_confirm_glb).head()"
        },
        {
            "cell_type": "code",
            "execution_count": 126,
            "metadata": {},
            "outputs": [
                {
                    "data": {
                        "text/html": "<div>\n<style scoped>\n    .dataframe tbody tr th:only-of-type {\n        vertical-align: middle;\n    }\n\n    .dataframe tbody tr th {\n        vertical-align: top;\n    }\n\n    .dataframe thead th {\n        text-align: right;\n    }\n</style>\n<table border=\"1\" class=\"dataframe\">\n  <thead>\n    <tr style=\"text-align: right;\">\n      <th></th>\n      <th>Country/Region</th>\n      <th>1/22/20</th>\n      <th>1/23/20</th>\n      <th>1/24/20</th>\n      <th>1/25/20</th>\n      <th>1/26/20</th>\n      <th>1/27/20</th>\n      <th>1/28/20</th>\n      <th>1/29/20</th>\n      <th>1/30/20</th>\n      <th>...</th>\n      <th>4/4/20</th>\n      <th>4/5/20</th>\n      <th>4/6/20</th>\n      <th>4/7/20</th>\n      <th>4/8/20</th>\n      <th>4/9/20</th>\n      <th>4/10/20</th>\n      <th>4/11/20</th>\n      <th>4/12/20</th>\n      <th>4/13/20</th>\n    </tr>\n  </thead>\n  <tbody>\n    <tr>\n      <th>0</th>\n      <td>Afghanistan</td>\n      <td>0</td>\n      <td>0</td>\n      <td>0</td>\n      <td>0</td>\n      <td>0</td>\n      <td>0</td>\n      <td>0</td>\n      <td>0</td>\n      <td>0</td>\n      <td>...</td>\n      <td>7</td>\n      <td>7</td>\n      <td>11</td>\n      <td>14</td>\n      <td>14</td>\n      <td>15</td>\n      <td>15</td>\n      <td>18</td>\n      <td>18</td>\n      <td>21</td>\n    </tr>\n    <tr>\n      <th>1</th>\n      <td>Albania</td>\n      <td>0</td>\n      <td>0</td>\n      <td>0</td>\n      <td>0</td>\n      <td>0</td>\n      <td>0</td>\n      <td>0</td>\n      <td>0</td>\n      <td>0</td>\n      <td>...</td>\n      <td>20</td>\n      <td>20</td>\n      <td>21</td>\n      <td>22</td>\n      <td>22</td>\n      <td>23</td>\n      <td>23</td>\n      <td>23</td>\n      <td>23</td>\n      <td>23</td>\n    </tr>\n    <tr>\n      <th>2</th>\n      <td>Algeria</td>\n      <td>0</td>\n      <td>0</td>\n      <td>0</td>\n      <td>0</td>\n      <td>0</td>\n      <td>0</td>\n      <td>0</td>\n      <td>0</td>\n      <td>0</td>\n      <td>...</td>\n      <td>130</td>\n      <td>152</td>\n      <td>173</td>\n      <td>193</td>\n      <td>205</td>\n      <td>235</td>\n      <td>256</td>\n      <td>275</td>\n      <td>293</td>\n      <td>313</td>\n    </tr>\n    <tr>\n      <th>3</th>\n      <td>Andorra</td>\n      <td>0</td>\n      <td>0</td>\n      <td>0</td>\n      <td>0</td>\n      <td>0</td>\n      <td>0</td>\n      <td>0</td>\n      <td>0</td>\n      <td>0</td>\n      <td>...</td>\n      <td>17</td>\n      <td>18</td>\n      <td>21</td>\n      <td>22</td>\n      <td>23</td>\n      <td>25</td>\n      <td>26</td>\n      <td>26</td>\n      <td>29</td>\n      <td>29</td>\n    </tr>\n    <tr>\n      <th>4</th>\n      <td>Angola</td>\n      <td>0</td>\n      <td>0</td>\n      <td>0</td>\n      <td>0</td>\n      <td>0</td>\n      <td>0</td>\n      <td>0</td>\n      <td>0</td>\n      <td>0</td>\n      <td>...</td>\n      <td>2</td>\n      <td>2</td>\n      <td>2</td>\n      <td>2</td>\n      <td>2</td>\n      <td>2</td>\n      <td>2</td>\n      <td>2</td>\n      <td>2</td>\n      <td>2</td>\n    </tr>\n  </tbody>\n</table>\n<p>5 rows \u00d7 84 columns</p>\n</div>",
                        "text/plain": "  Country/Region  1/22/20  1/23/20  1/24/20  1/25/20  1/26/20  1/27/20  \\\n0    Afghanistan        0        0        0        0        0        0   \n1        Albania        0        0        0        0        0        0   \n2        Algeria        0        0        0        0        0        0   \n3        Andorra        0        0        0        0        0        0   \n4         Angola        0        0        0        0        0        0   \n\n   1/28/20  1/29/20  1/30/20  ...  4/4/20  4/5/20  4/6/20  4/7/20  4/8/20  \\\n0        0        0        0  ...       7       7      11      14      14   \n1        0        0        0  ...      20      20      21      22      22   \n2        0        0        0  ...     130     152     173     193     205   \n3        0        0        0  ...      17      18      21      22      23   \n4        0        0        0  ...       2       2       2       2       2   \n\n   4/9/20  4/10/20  4/11/20  4/12/20  4/13/20  \n0      15       15       18       18       21  \n1      23       23       23       23       23  \n2     235      256      275      293      313  \n3      25       26       26       29       29  \n4       2        2        2        2        2  \n\n[5 rows x 84 columns]"
                    },
                    "execution_count": 126,
                    "metadata": {},
                    "output_type": "execute_result"
                }
            ],
            "source": "dropcol(df_death_glb).head()"
        },
        {
            "cell_type": "code",
            "execution_count": 127,
            "metadata": {},
            "outputs": [
                {
                    "data": {
                        "text/html": "<div>\n<style scoped>\n    .dataframe tbody tr th:only-of-type {\n        vertical-align: middle;\n    }\n\n    .dataframe tbody tr th {\n        vertical-align: top;\n    }\n\n    .dataframe thead th {\n        text-align: right;\n    }\n</style>\n<table border=\"1\" class=\"dataframe\">\n  <thead>\n    <tr style=\"text-align: right;\">\n      <th></th>\n      <th>Country/Region</th>\n      <th>1/22/20</th>\n      <th>1/23/20</th>\n      <th>1/24/20</th>\n      <th>1/25/20</th>\n      <th>1/26/20</th>\n      <th>1/27/20</th>\n      <th>1/28/20</th>\n      <th>1/29/20</th>\n      <th>1/30/20</th>\n      <th>...</th>\n      <th>4/4/20</th>\n      <th>4/5/20</th>\n      <th>4/6/20</th>\n      <th>4/7/20</th>\n      <th>4/8/20</th>\n      <th>4/9/20</th>\n      <th>4/10/20</th>\n      <th>4/11/20</th>\n      <th>4/12/20</th>\n      <th>4/13/20</th>\n    </tr>\n  </thead>\n  <tbody>\n    <tr>\n      <th>0</th>\n      <td>Afghanistan</td>\n      <td>0</td>\n      <td>0</td>\n      <td>0</td>\n      <td>0</td>\n      <td>0</td>\n      <td>0</td>\n      <td>0</td>\n      <td>0</td>\n      <td>0</td>\n      <td>...</td>\n      <td>10</td>\n      <td>15</td>\n      <td>18</td>\n      <td>18</td>\n      <td>29</td>\n      <td>32</td>\n      <td>32</td>\n      <td>32</td>\n      <td>32</td>\n      <td>32</td>\n    </tr>\n    <tr>\n      <th>1</th>\n      <td>Albania</td>\n      <td>0</td>\n      <td>0</td>\n      <td>0</td>\n      <td>0</td>\n      <td>0</td>\n      <td>0</td>\n      <td>0</td>\n      <td>0</td>\n      <td>0</td>\n      <td>...</td>\n      <td>99</td>\n      <td>104</td>\n      <td>116</td>\n      <td>131</td>\n      <td>154</td>\n      <td>165</td>\n      <td>182</td>\n      <td>197</td>\n      <td>217</td>\n      <td>232</td>\n    </tr>\n    <tr>\n      <th>2</th>\n      <td>Algeria</td>\n      <td>0</td>\n      <td>0</td>\n      <td>0</td>\n      <td>0</td>\n      <td>0</td>\n      <td>0</td>\n      <td>0</td>\n      <td>0</td>\n      <td>0</td>\n      <td>...</td>\n      <td>90</td>\n      <td>90</td>\n      <td>90</td>\n      <td>113</td>\n      <td>237</td>\n      <td>347</td>\n      <td>405</td>\n      <td>460</td>\n      <td>591</td>\n      <td>601</td>\n    </tr>\n    <tr>\n      <th>3</th>\n      <td>Andorra</td>\n      <td>0</td>\n      <td>0</td>\n      <td>0</td>\n      <td>0</td>\n      <td>0</td>\n      <td>0</td>\n      <td>0</td>\n      <td>0</td>\n      <td>0</td>\n      <td>...</td>\n      <td>21</td>\n      <td>26</td>\n      <td>31</td>\n      <td>39</td>\n      <td>52</td>\n      <td>58</td>\n      <td>71</td>\n      <td>71</td>\n      <td>128</td>\n      <td>128</td>\n    </tr>\n    <tr>\n      <th>4</th>\n      <td>Angola</td>\n      <td>0</td>\n      <td>0</td>\n      <td>0</td>\n      <td>0</td>\n      <td>0</td>\n      <td>0</td>\n      <td>0</td>\n      <td>0</td>\n      <td>0</td>\n      <td>...</td>\n      <td>2</td>\n      <td>2</td>\n      <td>2</td>\n      <td>2</td>\n      <td>2</td>\n      <td>2</td>\n      <td>2</td>\n      <td>4</td>\n      <td>4</td>\n      <td>4</td>\n    </tr>\n  </tbody>\n</table>\n<p>5 rows \u00d7 84 columns</p>\n</div>",
                        "text/plain": "  Country/Region  1/22/20  1/23/20  1/24/20  1/25/20  1/26/20  1/27/20  \\\n0    Afghanistan        0        0        0        0        0        0   \n1        Albania        0        0        0        0        0        0   \n2        Algeria        0        0        0        0        0        0   \n3        Andorra        0        0        0        0        0        0   \n4         Angola        0        0        0        0        0        0   \n\n   1/28/20  1/29/20  1/30/20  ...  4/4/20  4/5/20  4/6/20  4/7/20  4/8/20  \\\n0        0        0        0  ...      10      15      18      18      29   \n1        0        0        0  ...      99     104     116     131     154   \n2        0        0        0  ...      90      90      90     113     237   \n3        0        0        0  ...      21      26      31      39      52   \n4        0        0        0  ...       2       2       2       2       2   \n\n   4/9/20  4/10/20  4/11/20  4/12/20  4/13/20  \n0      32       32       32       32       32  \n1     165      182      197      217      232  \n2     347      405      460      591      601  \n3      58       71       71      128      128  \n4       2        2        4        4        4  \n\n[5 rows x 84 columns]"
                    },
                    "execution_count": 127,
                    "metadata": {},
                    "output_type": "execute_result"
                }
            ],
            "source": "dropcol(df_recover_glb).head()"
        },
        {
            "cell_type": "code",
            "execution_count": 128,
            "metadata": {},
            "outputs": [
                {
                    "data": {
                        "text/html": "<div>\n<style scoped>\n    .dataframe tbody tr th:only-of-type {\n        vertical-align: middle;\n    }\n\n    .dataframe tbody tr th {\n        vertical-align: top;\n    }\n\n    .dataframe thead th {\n        text-align: right;\n    }\n</style>\n<table border=\"1\" class=\"dataframe\">\n  <thead>\n    <tr style=\"text-align: right;\">\n      <th></th>\n      <th>Country (or dependency)</th>\n      <th>Population (2020)</th>\n      <th>Density (P/Km\u00b2)</th>\n      <th>Med. Age</th>\n      <th>Urban Pop %</th>\n    </tr>\n  </thead>\n  <tbody>\n    <tr>\n      <th>0</th>\n      <td>China</td>\n      <td>1438116346</td>\n      <td>153</td>\n      <td>38</td>\n      <td>61 %</td>\n    </tr>\n    <tr>\n      <th>1</th>\n      <td>India</td>\n      <td>1377011281</td>\n      <td>464</td>\n      <td>28</td>\n      <td>35 %</td>\n    </tr>\n    <tr>\n      <th>2</th>\n      <td>United States</td>\n      <td>330578810</td>\n      <td>36</td>\n      <td>38</td>\n      <td>83 %</td>\n    </tr>\n    <tr>\n      <th>3</th>\n      <td>Indonesia</td>\n      <td>272884327</td>\n      <td>151</td>\n      <td>30</td>\n      <td>56 %</td>\n    </tr>\n    <tr>\n      <th>4</th>\n      <td>Pakistan</td>\n      <td>219922471</td>\n      <td>287</td>\n      <td>23</td>\n      <td>35 %</td>\n    </tr>\n  </tbody>\n</table>\n</div>",
                        "text/plain": "  Country (or dependency)  Population (2020)  Density (P/Km\u00b2) Med. Age  \\\n0                   China         1438116346              153       38   \n1                   India         1377011281              464       28   \n2           United States          330578810               36       38   \n3               Indonesia          272884327              151       30   \n4                Pakistan          219922471              287       23   \n\n  Urban Pop %  \n0        61 %  \n1        35 %  \n2        83 %  \n3        56 %  \n4        35 %  "
                    },
                    "execution_count": 128,
                    "metadata": {},
                    "output_type": "execute_result"
                }
            ],
            "source": "df_pop_glb = df_pop_glb.drop(['Yearly Change', 'Net Change', 'Land Area (Km\u00b2)', 'Migrants (net)', 'Fert. Rate', 'World Share'], axis=1)\ndf_pop_glb.head()"
        },
        {
            "cell_type": "code",
            "execution_count": 129,
            "metadata": {},
            "outputs": [
                {
                    "name": "stdout",
                    "output_type": "stream",
                    "text": "(264, 84) (264, 84) (250, 84) (235, 5)\n"
                }
            ],
            "source": "print(df_confirm_glb.shape, df_death_glb.shape, df_recover_glb.shape, df_pop_glb.shape)"
        },
        {
            "cell_type": "code",
            "execution_count": 130,
            "metadata": {},
            "outputs": [],
            "source": "def groupsum(df: pd.DataFrame) -> pd.DataFrame:\n    '''groups by each country/region and adds their rows'''\n    df = pd.DataFrame(df.groupby(['Country/Region']).sum())\n    df.reset_index(inplace=True)\n    return df"
        },
        {
            "cell_type": "code",
            "execution_count": 131,
            "metadata": {},
            "outputs": [
                {
                    "data": {
                        "text/html": "<div>\n<style scoped>\n    .dataframe tbody tr th:only-of-type {\n        vertical-align: middle;\n    }\n\n    .dataframe tbody tr th {\n        vertical-align: top;\n    }\n\n    .dataframe thead th {\n        text-align: right;\n    }\n</style>\n<table border=\"1\" class=\"dataframe\">\n  <thead>\n    <tr style=\"text-align: right;\">\n      <th></th>\n      <th>Country/Region</th>\n      <th>1/22/20</th>\n      <th>1/23/20</th>\n      <th>1/24/20</th>\n      <th>1/25/20</th>\n      <th>1/26/20</th>\n      <th>1/27/20</th>\n      <th>1/28/20</th>\n      <th>1/29/20</th>\n      <th>1/30/20</th>\n      <th>...</th>\n      <th>4/4/20</th>\n      <th>4/5/20</th>\n      <th>4/6/20</th>\n      <th>4/7/20</th>\n      <th>4/8/20</th>\n      <th>4/9/20</th>\n      <th>4/10/20</th>\n      <th>4/11/20</th>\n      <th>4/12/20</th>\n      <th>4/13/20</th>\n    </tr>\n  </thead>\n  <tbody>\n    <tr>\n      <th>0</th>\n      <td>Afghanistan</td>\n      <td>0</td>\n      <td>0</td>\n      <td>0</td>\n      <td>0</td>\n      <td>0</td>\n      <td>0</td>\n      <td>0</td>\n      <td>0</td>\n      <td>0</td>\n      <td>...</td>\n      <td>299</td>\n      <td>349</td>\n      <td>367</td>\n      <td>423</td>\n      <td>444</td>\n      <td>484</td>\n      <td>521</td>\n      <td>555</td>\n      <td>607</td>\n      <td>665</td>\n    </tr>\n    <tr>\n      <th>1</th>\n      <td>Albania</td>\n      <td>0</td>\n      <td>0</td>\n      <td>0</td>\n      <td>0</td>\n      <td>0</td>\n      <td>0</td>\n      <td>0</td>\n      <td>0</td>\n      <td>0</td>\n      <td>...</td>\n      <td>333</td>\n      <td>361</td>\n      <td>377</td>\n      <td>383</td>\n      <td>400</td>\n      <td>409</td>\n      <td>416</td>\n      <td>433</td>\n      <td>446</td>\n      <td>467</td>\n    </tr>\n    <tr>\n      <th>2</th>\n      <td>Algeria</td>\n      <td>0</td>\n      <td>0</td>\n      <td>0</td>\n      <td>0</td>\n      <td>0</td>\n      <td>0</td>\n      <td>0</td>\n      <td>0</td>\n      <td>0</td>\n      <td>...</td>\n      <td>1251</td>\n      <td>1320</td>\n      <td>1423</td>\n      <td>1468</td>\n      <td>1572</td>\n      <td>1666</td>\n      <td>1761</td>\n      <td>1825</td>\n      <td>1914</td>\n      <td>1983</td>\n    </tr>\n    <tr>\n      <th>3</th>\n      <td>Andorra</td>\n      <td>0</td>\n      <td>0</td>\n      <td>0</td>\n      <td>0</td>\n      <td>0</td>\n      <td>0</td>\n      <td>0</td>\n      <td>0</td>\n      <td>0</td>\n      <td>...</td>\n      <td>466</td>\n      <td>501</td>\n      <td>525</td>\n      <td>545</td>\n      <td>564</td>\n      <td>583</td>\n      <td>601</td>\n      <td>601</td>\n      <td>638</td>\n      <td>646</td>\n    </tr>\n    <tr>\n      <th>4</th>\n      <td>Angola</td>\n      <td>0</td>\n      <td>0</td>\n      <td>0</td>\n      <td>0</td>\n      <td>0</td>\n      <td>0</td>\n      <td>0</td>\n      <td>0</td>\n      <td>0</td>\n      <td>...</td>\n      <td>10</td>\n      <td>14</td>\n      <td>16</td>\n      <td>17</td>\n      <td>19</td>\n      <td>19</td>\n      <td>19</td>\n      <td>19</td>\n      <td>19</td>\n      <td>19</td>\n    </tr>\n  </tbody>\n</table>\n<p>5 rows \u00d7 84 columns</p>\n</div>",
                        "text/plain": "  Country/Region  1/22/20  1/23/20  1/24/20  1/25/20  1/26/20  1/27/20  \\\n0    Afghanistan        0        0        0        0        0        0   \n1        Albania        0        0        0        0        0        0   \n2        Algeria        0        0        0        0        0        0   \n3        Andorra        0        0        0        0        0        0   \n4         Angola        0        0        0        0        0        0   \n\n   1/28/20  1/29/20  1/30/20  ...  4/4/20  4/5/20  4/6/20  4/7/20  4/8/20  \\\n0        0        0        0  ...     299     349     367     423     444   \n1        0        0        0  ...     333     361     377     383     400   \n2        0        0        0  ...    1251    1320    1423    1468    1572   \n3        0        0        0  ...     466     501     525     545     564   \n4        0        0        0  ...      10      14      16      17      19   \n\n   4/9/20  4/10/20  4/11/20  4/12/20  4/13/20  \n0     484      521      555      607      665  \n1     409      416      433      446      467  \n2    1666     1761     1825     1914     1983  \n3     583      601      601      638      646  \n4      19       19       19       19       19  \n\n[5 rows x 84 columns]"
                    },
                    "execution_count": 131,
                    "metadata": {},
                    "output_type": "execute_result"
                }
            ],
            "source": "df_confirm_glb = groupsum(df_confirm_glb)\ndf_confirm_glb.head()"
        },
        {
            "cell_type": "code",
            "execution_count": 132,
            "metadata": {},
            "outputs": [
                {
                    "data": {
                        "text/html": "<div>\n<style scoped>\n    .dataframe tbody tr th:only-of-type {\n        vertical-align: middle;\n    }\n\n    .dataframe tbody tr th {\n        vertical-align: top;\n    }\n\n    .dataframe thead th {\n        text-align: right;\n    }\n</style>\n<table border=\"1\" class=\"dataframe\">\n  <thead>\n    <tr style=\"text-align: right;\">\n      <th></th>\n      <th>Country/Region</th>\n      <th>1/22/20</th>\n      <th>1/23/20</th>\n      <th>1/24/20</th>\n      <th>1/25/20</th>\n      <th>1/26/20</th>\n      <th>1/27/20</th>\n      <th>1/28/20</th>\n      <th>1/29/20</th>\n      <th>1/30/20</th>\n      <th>...</th>\n      <th>4/4/20</th>\n      <th>4/5/20</th>\n      <th>4/6/20</th>\n      <th>4/7/20</th>\n      <th>4/8/20</th>\n      <th>4/9/20</th>\n      <th>4/10/20</th>\n      <th>4/11/20</th>\n      <th>4/12/20</th>\n      <th>4/13/20</th>\n    </tr>\n  </thead>\n  <tbody>\n    <tr>\n      <th>0</th>\n      <td>Afghanistan</td>\n      <td>0</td>\n      <td>0</td>\n      <td>0</td>\n      <td>0</td>\n      <td>0</td>\n      <td>0</td>\n      <td>0</td>\n      <td>0</td>\n      <td>0</td>\n      <td>...</td>\n      <td>7</td>\n      <td>7</td>\n      <td>11</td>\n      <td>14</td>\n      <td>14</td>\n      <td>15</td>\n      <td>15</td>\n      <td>18</td>\n      <td>18</td>\n      <td>21</td>\n    </tr>\n    <tr>\n      <th>1</th>\n      <td>Albania</td>\n      <td>0</td>\n      <td>0</td>\n      <td>0</td>\n      <td>0</td>\n      <td>0</td>\n      <td>0</td>\n      <td>0</td>\n      <td>0</td>\n      <td>0</td>\n      <td>...</td>\n      <td>20</td>\n      <td>20</td>\n      <td>21</td>\n      <td>22</td>\n      <td>22</td>\n      <td>23</td>\n      <td>23</td>\n      <td>23</td>\n      <td>23</td>\n      <td>23</td>\n    </tr>\n    <tr>\n      <th>2</th>\n      <td>Algeria</td>\n      <td>0</td>\n      <td>0</td>\n      <td>0</td>\n      <td>0</td>\n      <td>0</td>\n      <td>0</td>\n      <td>0</td>\n      <td>0</td>\n      <td>0</td>\n      <td>...</td>\n      <td>130</td>\n      <td>152</td>\n      <td>173</td>\n      <td>193</td>\n      <td>205</td>\n      <td>235</td>\n      <td>256</td>\n      <td>275</td>\n      <td>293</td>\n      <td>313</td>\n    </tr>\n    <tr>\n      <th>3</th>\n      <td>Andorra</td>\n      <td>0</td>\n      <td>0</td>\n      <td>0</td>\n      <td>0</td>\n      <td>0</td>\n      <td>0</td>\n      <td>0</td>\n      <td>0</td>\n      <td>0</td>\n      <td>...</td>\n      <td>17</td>\n      <td>18</td>\n      <td>21</td>\n      <td>22</td>\n      <td>23</td>\n      <td>25</td>\n      <td>26</td>\n      <td>26</td>\n      <td>29</td>\n      <td>29</td>\n    </tr>\n    <tr>\n      <th>4</th>\n      <td>Angola</td>\n      <td>0</td>\n      <td>0</td>\n      <td>0</td>\n      <td>0</td>\n      <td>0</td>\n      <td>0</td>\n      <td>0</td>\n      <td>0</td>\n      <td>0</td>\n      <td>...</td>\n      <td>2</td>\n      <td>2</td>\n      <td>2</td>\n      <td>2</td>\n      <td>2</td>\n      <td>2</td>\n      <td>2</td>\n      <td>2</td>\n      <td>2</td>\n      <td>2</td>\n    </tr>\n  </tbody>\n</table>\n<p>5 rows \u00d7 84 columns</p>\n</div>",
                        "text/plain": "  Country/Region  1/22/20  1/23/20  1/24/20  1/25/20  1/26/20  1/27/20  \\\n0    Afghanistan        0        0        0        0        0        0   \n1        Albania        0        0        0        0        0        0   \n2        Algeria        0        0        0        0        0        0   \n3        Andorra        0        0        0        0        0        0   \n4         Angola        0        0        0        0        0        0   \n\n   1/28/20  1/29/20  1/30/20  ...  4/4/20  4/5/20  4/6/20  4/7/20  4/8/20  \\\n0        0        0        0  ...       7       7      11      14      14   \n1        0        0        0  ...      20      20      21      22      22   \n2        0        0        0  ...     130     152     173     193     205   \n3        0        0        0  ...      17      18      21      22      23   \n4        0        0        0  ...       2       2       2       2       2   \n\n   4/9/20  4/10/20  4/11/20  4/12/20  4/13/20  \n0      15       15       18       18       21  \n1      23       23       23       23       23  \n2     235      256      275      293      313  \n3      25       26       26       29       29  \n4       2        2        2        2        2  \n\n[5 rows x 84 columns]"
                    },
                    "execution_count": 132,
                    "metadata": {},
                    "output_type": "execute_result"
                }
            ],
            "source": "df_death_glb = groupsum(df_death_glb)\ndf_death_glb.head()"
        },
        {
            "cell_type": "code",
            "execution_count": 133,
            "metadata": {},
            "outputs": [
                {
                    "data": {
                        "text/html": "<div>\n<style scoped>\n    .dataframe tbody tr th:only-of-type {\n        vertical-align: middle;\n    }\n\n    .dataframe tbody tr th {\n        vertical-align: top;\n    }\n\n    .dataframe thead th {\n        text-align: right;\n    }\n</style>\n<table border=\"1\" class=\"dataframe\">\n  <thead>\n    <tr style=\"text-align: right;\">\n      <th></th>\n      <th>Country/Region</th>\n      <th>1/22/20</th>\n      <th>1/23/20</th>\n      <th>1/24/20</th>\n      <th>1/25/20</th>\n      <th>1/26/20</th>\n      <th>1/27/20</th>\n      <th>1/28/20</th>\n      <th>1/29/20</th>\n      <th>1/30/20</th>\n      <th>...</th>\n      <th>4/4/20</th>\n      <th>4/5/20</th>\n      <th>4/6/20</th>\n      <th>4/7/20</th>\n      <th>4/8/20</th>\n      <th>4/9/20</th>\n      <th>4/10/20</th>\n      <th>4/11/20</th>\n      <th>4/12/20</th>\n      <th>4/13/20</th>\n    </tr>\n  </thead>\n  <tbody>\n    <tr>\n      <th>0</th>\n      <td>Afghanistan</td>\n      <td>0</td>\n      <td>0</td>\n      <td>0</td>\n      <td>0</td>\n      <td>0</td>\n      <td>0</td>\n      <td>0</td>\n      <td>0</td>\n      <td>0</td>\n      <td>...</td>\n      <td>10</td>\n      <td>15</td>\n      <td>18</td>\n      <td>18</td>\n      <td>29</td>\n      <td>32</td>\n      <td>32</td>\n      <td>32</td>\n      <td>32</td>\n      <td>32</td>\n    </tr>\n    <tr>\n      <th>1</th>\n      <td>Albania</td>\n      <td>0</td>\n      <td>0</td>\n      <td>0</td>\n      <td>0</td>\n      <td>0</td>\n      <td>0</td>\n      <td>0</td>\n      <td>0</td>\n      <td>0</td>\n      <td>...</td>\n      <td>99</td>\n      <td>104</td>\n      <td>116</td>\n      <td>131</td>\n      <td>154</td>\n      <td>165</td>\n      <td>182</td>\n      <td>197</td>\n      <td>217</td>\n      <td>232</td>\n    </tr>\n    <tr>\n      <th>2</th>\n      <td>Algeria</td>\n      <td>0</td>\n      <td>0</td>\n      <td>0</td>\n      <td>0</td>\n      <td>0</td>\n      <td>0</td>\n      <td>0</td>\n      <td>0</td>\n      <td>0</td>\n      <td>...</td>\n      <td>90</td>\n      <td>90</td>\n      <td>90</td>\n      <td>113</td>\n      <td>237</td>\n      <td>347</td>\n      <td>405</td>\n      <td>460</td>\n      <td>591</td>\n      <td>601</td>\n    </tr>\n    <tr>\n      <th>3</th>\n      <td>Andorra</td>\n      <td>0</td>\n      <td>0</td>\n      <td>0</td>\n      <td>0</td>\n      <td>0</td>\n      <td>0</td>\n      <td>0</td>\n      <td>0</td>\n      <td>0</td>\n      <td>...</td>\n      <td>21</td>\n      <td>26</td>\n      <td>31</td>\n      <td>39</td>\n      <td>52</td>\n      <td>58</td>\n      <td>71</td>\n      <td>71</td>\n      <td>128</td>\n      <td>128</td>\n    </tr>\n    <tr>\n      <th>4</th>\n      <td>Angola</td>\n      <td>0</td>\n      <td>0</td>\n      <td>0</td>\n      <td>0</td>\n      <td>0</td>\n      <td>0</td>\n      <td>0</td>\n      <td>0</td>\n      <td>0</td>\n      <td>...</td>\n      <td>2</td>\n      <td>2</td>\n      <td>2</td>\n      <td>2</td>\n      <td>2</td>\n      <td>2</td>\n      <td>2</td>\n      <td>4</td>\n      <td>4</td>\n      <td>4</td>\n    </tr>\n  </tbody>\n</table>\n<p>5 rows \u00d7 84 columns</p>\n</div>",
                        "text/plain": "  Country/Region  1/22/20  1/23/20  1/24/20  1/25/20  1/26/20  1/27/20  \\\n0    Afghanistan        0        0        0        0        0        0   \n1        Albania        0        0        0        0        0        0   \n2        Algeria        0        0        0        0        0        0   \n3        Andorra        0        0        0        0        0        0   \n4         Angola        0        0        0        0        0        0   \n\n   1/28/20  1/29/20  1/30/20  ...  4/4/20  4/5/20  4/6/20  4/7/20  4/8/20  \\\n0        0        0        0  ...      10      15      18      18      29   \n1        0        0        0  ...      99     104     116     131     154   \n2        0        0        0  ...      90      90      90     113     237   \n3        0        0        0  ...      21      26      31      39      52   \n4        0        0        0  ...       2       2       2       2       2   \n\n   4/9/20  4/10/20  4/11/20  4/12/20  4/13/20  \n0      32       32       32       32       32  \n1     165      182      197      217      232  \n2     347      405      460      591      601  \n3      58       71       71      128      128  \n4       2        2        4        4        4  \n\n[5 rows x 84 columns]"
                    },
                    "execution_count": 133,
                    "metadata": {},
                    "output_type": "execute_result"
                }
            ],
            "source": "df_recover_glb = groupsum(df_recover_glb)\ndf_recover_glb.head()"
        },
        {
            "cell_type": "code",
            "execution_count": 134,
            "metadata": {},
            "outputs": [
                {
                    "name": "stdout",
                    "output_type": "stream",
                    "text": "(185, 84) (185, 84) (185, 84)\n"
                }
            ],
            "source": "print(df_confirm_glb.shape, df_death_glb.shape, df_recover_glb.shape)"
        },
        {
            "cell_type": "code",
            "execution_count": 135,
            "metadata": {},
            "outputs": [
                {
                    "name": "stdout",
                    "output_type": "stream",
                    "text": "(172, 84) (172, 84) (172, 84) (172, 5)\n"
                }
            ],
            "source": "# the country/region in each covid dataframe is checked against each country/region in the population dataframe and vice versa \n# to ensure only mutual countries/regions remain\n\ndf_confirm_glb = df_confirm_glb[df_confirm_glb['Country/Region'].isin(df_pop_glb['Country (or dependency)'])].reset_index(drop=True)\n\ndf_death_glb = df_death_glb[df_death_glb['Country/Region'].isin(df_pop_glb['Country (or dependency)'])].reset_index(drop=True)\n\ndf_recover_glb = df_recover_glb[df_recover_glb['Country/Region'].isin(df_pop_glb['Country (or dependency)'])].reset_index(drop=True)\n\ndf_pop_glb = df_pop_glb[df_pop_glb['Country (or dependency)'].isin(df_confirm_glb['Country/Region'])].reset_index(drop=True)\n\nprint(df_confirm_glb.shape, df_death_glb.shape, df_recover_glb.shape, df_pop_glb.shape)"
        },
        {
            "cell_type": "code",
            "execution_count": 136,
            "metadata": {},
            "outputs": [],
            "source": "def sort_country(df: pd.DataFrame, name: str) -> pd.DataFrame:\n    '''sorts the dataframe by country/region'''\n    df = df.sort_values(by=f'{name}', ascending=True)\n    df.reset_index(drop=True)\n    return df"
        },
        {
            "cell_type": "code",
            "execution_count": 137,
            "metadata": {},
            "outputs": [
                {
                    "data": {
                        "text/html": "<div>\n<style scoped>\n    .dataframe tbody tr th:only-of-type {\n        vertical-align: middle;\n    }\n\n    .dataframe tbody tr th {\n        vertical-align: top;\n    }\n\n    .dataframe thead th {\n        text-align: right;\n    }\n</style>\n<table border=\"1\" class=\"dataframe\">\n  <thead>\n    <tr style=\"text-align: right;\">\n      <th></th>\n      <th>Country/Region</th>\n      <th>1/22/20</th>\n      <th>1/23/20</th>\n      <th>1/24/20</th>\n      <th>1/25/20</th>\n      <th>1/26/20</th>\n      <th>1/27/20</th>\n      <th>1/28/20</th>\n      <th>1/29/20</th>\n      <th>1/30/20</th>\n      <th>...</th>\n      <th>4/4/20</th>\n      <th>4/5/20</th>\n      <th>4/6/20</th>\n      <th>4/7/20</th>\n      <th>4/8/20</th>\n      <th>4/9/20</th>\n      <th>4/10/20</th>\n      <th>4/11/20</th>\n      <th>4/12/20</th>\n      <th>4/13/20</th>\n    </tr>\n  </thead>\n  <tbody>\n    <tr>\n      <th>0</th>\n      <td>Afghanistan</td>\n      <td>0</td>\n      <td>0</td>\n      <td>0</td>\n      <td>0</td>\n      <td>0</td>\n      <td>0</td>\n      <td>0</td>\n      <td>0</td>\n      <td>0</td>\n      <td>...</td>\n      <td>299</td>\n      <td>349</td>\n      <td>367</td>\n      <td>423</td>\n      <td>444</td>\n      <td>484</td>\n      <td>521</td>\n      <td>555</td>\n      <td>607</td>\n      <td>665</td>\n    </tr>\n    <tr>\n      <th>1</th>\n      <td>Albania</td>\n      <td>0</td>\n      <td>0</td>\n      <td>0</td>\n      <td>0</td>\n      <td>0</td>\n      <td>0</td>\n      <td>0</td>\n      <td>0</td>\n      <td>0</td>\n      <td>...</td>\n      <td>333</td>\n      <td>361</td>\n      <td>377</td>\n      <td>383</td>\n      <td>400</td>\n      <td>409</td>\n      <td>416</td>\n      <td>433</td>\n      <td>446</td>\n      <td>467</td>\n    </tr>\n    <tr>\n      <th>2</th>\n      <td>Algeria</td>\n      <td>0</td>\n      <td>0</td>\n      <td>0</td>\n      <td>0</td>\n      <td>0</td>\n      <td>0</td>\n      <td>0</td>\n      <td>0</td>\n      <td>0</td>\n      <td>...</td>\n      <td>1251</td>\n      <td>1320</td>\n      <td>1423</td>\n      <td>1468</td>\n      <td>1572</td>\n      <td>1666</td>\n      <td>1761</td>\n      <td>1825</td>\n      <td>1914</td>\n      <td>1983</td>\n    </tr>\n    <tr>\n      <th>3</th>\n      <td>Andorra</td>\n      <td>0</td>\n      <td>0</td>\n      <td>0</td>\n      <td>0</td>\n      <td>0</td>\n      <td>0</td>\n      <td>0</td>\n      <td>0</td>\n      <td>0</td>\n      <td>...</td>\n      <td>466</td>\n      <td>501</td>\n      <td>525</td>\n      <td>545</td>\n      <td>564</td>\n      <td>583</td>\n      <td>601</td>\n      <td>601</td>\n      <td>638</td>\n      <td>646</td>\n    </tr>\n    <tr>\n      <th>4</th>\n      <td>Angola</td>\n      <td>0</td>\n      <td>0</td>\n      <td>0</td>\n      <td>0</td>\n      <td>0</td>\n      <td>0</td>\n      <td>0</td>\n      <td>0</td>\n      <td>0</td>\n      <td>...</td>\n      <td>10</td>\n      <td>14</td>\n      <td>16</td>\n      <td>17</td>\n      <td>19</td>\n      <td>19</td>\n      <td>19</td>\n      <td>19</td>\n      <td>19</td>\n      <td>19</td>\n    </tr>\n  </tbody>\n</table>\n<p>5 rows \u00d7 84 columns</p>\n</div>",
                        "text/plain": "  Country/Region  1/22/20  1/23/20  1/24/20  1/25/20  1/26/20  1/27/20  \\\n0    Afghanistan        0        0        0        0        0        0   \n1        Albania        0        0        0        0        0        0   \n2        Algeria        0        0        0        0        0        0   \n3        Andorra        0        0        0        0        0        0   \n4         Angola        0        0        0        0        0        0   \n\n   1/28/20  1/29/20  1/30/20  ...  4/4/20  4/5/20  4/6/20  4/7/20  4/8/20  \\\n0        0        0        0  ...     299     349     367     423     444   \n1        0        0        0  ...     333     361     377     383     400   \n2        0        0        0  ...    1251    1320    1423    1468    1572   \n3        0        0        0  ...     466     501     525     545     564   \n4        0        0        0  ...      10      14      16      17      19   \n\n   4/9/20  4/10/20  4/11/20  4/12/20  4/13/20  \n0     484      521      555      607      665  \n1     409      416      433      446      467  \n2    1666     1761     1825     1914     1983  \n3     583      601      601      638      646  \n4      19       19       19       19       19  \n\n[5 rows x 84 columns]"
                    },
                    "execution_count": 137,
                    "metadata": {},
                    "output_type": "execute_result"
                }
            ],
            "source": "df_confirm_glb = sort_country(df_confirm_glb, 'Country/Region')\ndf_confirm_glb.head()"
        },
        {
            "cell_type": "code",
            "execution_count": 138,
            "metadata": {},
            "outputs": [
                {
                    "data": {
                        "text/html": "<div>\n<style scoped>\n    .dataframe tbody tr th:only-of-type {\n        vertical-align: middle;\n    }\n\n    .dataframe tbody tr th {\n        vertical-align: top;\n    }\n\n    .dataframe thead th {\n        text-align: right;\n    }\n</style>\n<table border=\"1\" class=\"dataframe\">\n  <thead>\n    <tr style=\"text-align: right;\">\n      <th></th>\n      <th>Country/Region</th>\n      <th>1/22/20</th>\n      <th>1/23/20</th>\n      <th>1/24/20</th>\n      <th>1/25/20</th>\n      <th>1/26/20</th>\n      <th>1/27/20</th>\n      <th>1/28/20</th>\n      <th>1/29/20</th>\n      <th>1/30/20</th>\n      <th>...</th>\n      <th>4/4/20</th>\n      <th>4/5/20</th>\n      <th>4/6/20</th>\n      <th>4/7/20</th>\n      <th>4/8/20</th>\n      <th>4/9/20</th>\n      <th>4/10/20</th>\n      <th>4/11/20</th>\n      <th>4/12/20</th>\n      <th>4/13/20</th>\n    </tr>\n  </thead>\n  <tbody>\n    <tr>\n      <th>0</th>\n      <td>Afghanistan</td>\n      <td>0</td>\n      <td>0</td>\n      <td>0</td>\n      <td>0</td>\n      <td>0</td>\n      <td>0</td>\n      <td>0</td>\n      <td>0</td>\n      <td>0</td>\n      <td>...</td>\n      <td>7</td>\n      <td>7</td>\n      <td>11</td>\n      <td>14</td>\n      <td>14</td>\n      <td>15</td>\n      <td>15</td>\n      <td>18</td>\n      <td>18</td>\n      <td>21</td>\n    </tr>\n    <tr>\n      <th>1</th>\n      <td>Albania</td>\n      <td>0</td>\n      <td>0</td>\n      <td>0</td>\n      <td>0</td>\n      <td>0</td>\n      <td>0</td>\n      <td>0</td>\n      <td>0</td>\n      <td>0</td>\n      <td>...</td>\n      <td>20</td>\n      <td>20</td>\n      <td>21</td>\n      <td>22</td>\n      <td>22</td>\n      <td>23</td>\n      <td>23</td>\n      <td>23</td>\n      <td>23</td>\n      <td>23</td>\n    </tr>\n    <tr>\n      <th>2</th>\n      <td>Algeria</td>\n      <td>0</td>\n      <td>0</td>\n      <td>0</td>\n      <td>0</td>\n      <td>0</td>\n      <td>0</td>\n      <td>0</td>\n      <td>0</td>\n      <td>0</td>\n      <td>...</td>\n      <td>130</td>\n      <td>152</td>\n      <td>173</td>\n      <td>193</td>\n      <td>205</td>\n      <td>235</td>\n      <td>256</td>\n      <td>275</td>\n      <td>293</td>\n      <td>313</td>\n    </tr>\n    <tr>\n      <th>3</th>\n      <td>Andorra</td>\n      <td>0</td>\n      <td>0</td>\n      <td>0</td>\n      <td>0</td>\n      <td>0</td>\n      <td>0</td>\n      <td>0</td>\n      <td>0</td>\n      <td>0</td>\n      <td>...</td>\n      <td>17</td>\n      <td>18</td>\n      <td>21</td>\n      <td>22</td>\n      <td>23</td>\n      <td>25</td>\n      <td>26</td>\n      <td>26</td>\n      <td>29</td>\n      <td>29</td>\n    </tr>\n    <tr>\n      <th>4</th>\n      <td>Angola</td>\n      <td>0</td>\n      <td>0</td>\n      <td>0</td>\n      <td>0</td>\n      <td>0</td>\n      <td>0</td>\n      <td>0</td>\n      <td>0</td>\n      <td>0</td>\n      <td>...</td>\n      <td>2</td>\n      <td>2</td>\n      <td>2</td>\n      <td>2</td>\n      <td>2</td>\n      <td>2</td>\n      <td>2</td>\n      <td>2</td>\n      <td>2</td>\n      <td>2</td>\n    </tr>\n  </tbody>\n</table>\n<p>5 rows \u00d7 84 columns</p>\n</div>",
                        "text/plain": "  Country/Region  1/22/20  1/23/20  1/24/20  1/25/20  1/26/20  1/27/20  \\\n0    Afghanistan        0        0        0        0        0        0   \n1        Albania        0        0        0        0        0        0   \n2        Algeria        0        0        0        0        0        0   \n3        Andorra        0        0        0        0        0        0   \n4         Angola        0        0        0        0        0        0   \n\n   1/28/20  1/29/20  1/30/20  ...  4/4/20  4/5/20  4/6/20  4/7/20  4/8/20  \\\n0        0        0        0  ...       7       7      11      14      14   \n1        0        0        0  ...      20      20      21      22      22   \n2        0        0        0  ...     130     152     173     193     205   \n3        0        0        0  ...      17      18      21      22      23   \n4        0        0        0  ...       2       2       2       2       2   \n\n   4/9/20  4/10/20  4/11/20  4/12/20  4/13/20  \n0      15       15       18       18       21  \n1      23       23       23       23       23  \n2     235      256      275      293      313  \n3      25       26       26       29       29  \n4       2        2        2        2        2  \n\n[5 rows x 84 columns]"
                    },
                    "execution_count": 138,
                    "metadata": {},
                    "output_type": "execute_result"
                }
            ],
            "source": "df_death_glb = sort_country(df_death_glb, 'Country/Region')\ndf_death_glb.head()"
        },
        {
            "cell_type": "code",
            "execution_count": 139,
            "metadata": {},
            "outputs": [
                {
                    "data": {
                        "text/html": "<div>\n<style scoped>\n    .dataframe tbody tr th:only-of-type {\n        vertical-align: middle;\n    }\n\n    .dataframe tbody tr th {\n        vertical-align: top;\n    }\n\n    .dataframe thead th {\n        text-align: right;\n    }\n</style>\n<table border=\"1\" class=\"dataframe\">\n  <thead>\n    <tr style=\"text-align: right;\">\n      <th></th>\n      <th>Country/Region</th>\n      <th>1/22/20</th>\n      <th>1/23/20</th>\n      <th>1/24/20</th>\n      <th>1/25/20</th>\n      <th>1/26/20</th>\n      <th>1/27/20</th>\n      <th>1/28/20</th>\n      <th>1/29/20</th>\n      <th>1/30/20</th>\n      <th>...</th>\n      <th>4/4/20</th>\n      <th>4/5/20</th>\n      <th>4/6/20</th>\n      <th>4/7/20</th>\n      <th>4/8/20</th>\n      <th>4/9/20</th>\n      <th>4/10/20</th>\n      <th>4/11/20</th>\n      <th>4/12/20</th>\n      <th>4/13/20</th>\n    </tr>\n  </thead>\n  <tbody>\n    <tr>\n      <th>0</th>\n      <td>Afghanistan</td>\n      <td>0</td>\n      <td>0</td>\n      <td>0</td>\n      <td>0</td>\n      <td>0</td>\n      <td>0</td>\n      <td>0</td>\n      <td>0</td>\n      <td>0</td>\n      <td>...</td>\n      <td>10</td>\n      <td>15</td>\n      <td>18</td>\n      <td>18</td>\n      <td>29</td>\n      <td>32</td>\n      <td>32</td>\n      <td>32</td>\n      <td>32</td>\n      <td>32</td>\n    </tr>\n    <tr>\n      <th>1</th>\n      <td>Albania</td>\n      <td>0</td>\n      <td>0</td>\n      <td>0</td>\n      <td>0</td>\n      <td>0</td>\n      <td>0</td>\n      <td>0</td>\n      <td>0</td>\n      <td>0</td>\n      <td>...</td>\n      <td>99</td>\n      <td>104</td>\n      <td>116</td>\n      <td>131</td>\n      <td>154</td>\n      <td>165</td>\n      <td>182</td>\n      <td>197</td>\n      <td>217</td>\n      <td>232</td>\n    </tr>\n    <tr>\n      <th>2</th>\n      <td>Algeria</td>\n      <td>0</td>\n      <td>0</td>\n      <td>0</td>\n      <td>0</td>\n      <td>0</td>\n      <td>0</td>\n      <td>0</td>\n      <td>0</td>\n      <td>0</td>\n      <td>...</td>\n      <td>90</td>\n      <td>90</td>\n      <td>90</td>\n      <td>113</td>\n      <td>237</td>\n      <td>347</td>\n      <td>405</td>\n      <td>460</td>\n      <td>591</td>\n      <td>601</td>\n    </tr>\n    <tr>\n      <th>3</th>\n      <td>Andorra</td>\n      <td>0</td>\n      <td>0</td>\n      <td>0</td>\n      <td>0</td>\n      <td>0</td>\n      <td>0</td>\n      <td>0</td>\n      <td>0</td>\n      <td>0</td>\n      <td>...</td>\n      <td>21</td>\n      <td>26</td>\n      <td>31</td>\n      <td>39</td>\n      <td>52</td>\n      <td>58</td>\n      <td>71</td>\n      <td>71</td>\n      <td>128</td>\n      <td>128</td>\n    </tr>\n    <tr>\n      <th>4</th>\n      <td>Angola</td>\n      <td>0</td>\n      <td>0</td>\n      <td>0</td>\n      <td>0</td>\n      <td>0</td>\n      <td>0</td>\n      <td>0</td>\n      <td>0</td>\n      <td>0</td>\n      <td>...</td>\n      <td>2</td>\n      <td>2</td>\n      <td>2</td>\n      <td>2</td>\n      <td>2</td>\n      <td>2</td>\n      <td>2</td>\n      <td>4</td>\n      <td>4</td>\n      <td>4</td>\n    </tr>\n  </tbody>\n</table>\n<p>5 rows \u00d7 84 columns</p>\n</div>",
                        "text/plain": "  Country/Region  1/22/20  1/23/20  1/24/20  1/25/20  1/26/20  1/27/20  \\\n0    Afghanistan        0        0        0        0        0        0   \n1        Albania        0        0        0        0        0        0   \n2        Algeria        0        0        0        0        0        0   \n3        Andorra        0        0        0        0        0        0   \n4         Angola        0        0        0        0        0        0   \n\n   1/28/20  1/29/20  1/30/20  ...  4/4/20  4/5/20  4/6/20  4/7/20  4/8/20  \\\n0        0        0        0  ...      10      15      18      18      29   \n1        0        0        0  ...      99     104     116     131     154   \n2        0        0        0  ...      90      90      90     113     237   \n3        0        0        0  ...      21      26      31      39      52   \n4        0        0        0  ...       2       2       2       2       2   \n\n   4/9/20  4/10/20  4/11/20  4/12/20  4/13/20  \n0      32       32       32       32       32  \n1     165      182      197      217      232  \n2     347      405      460      591      601  \n3      58       71       71      128      128  \n4       2        2        4        4        4  \n\n[5 rows x 84 columns]"
                    },
                    "execution_count": 139,
                    "metadata": {},
                    "output_type": "execute_result"
                }
            ],
            "source": "df_recover_glb = sort_country(df_recover_glb, 'Country/Region')\ndf_recover_glb.head()"
        },
        {
            "cell_type": "code",
            "execution_count": 140,
            "metadata": {},
            "outputs": [
                {
                    "data": {
                        "text/html": "<div>\n<style scoped>\n    .dataframe tbody tr th:only-of-type {\n        vertical-align: middle;\n    }\n\n    .dataframe tbody tr th {\n        vertical-align: top;\n    }\n\n    .dataframe thead th {\n        text-align: right;\n    }\n</style>\n<table border=\"1\" class=\"dataframe\">\n  <thead>\n    <tr style=\"text-align: right;\">\n      <th></th>\n      <th>Country (or dependency)</th>\n      <th>Population (2020)</th>\n      <th>Density (P/Km\u00b2)</th>\n      <th>Med. Age</th>\n      <th>Urban Pop %</th>\n    </tr>\n  </thead>\n  <tbody>\n    <tr>\n      <th>34</th>\n      <td>Afghanistan</td>\n      <td>38728504</td>\n      <td>60</td>\n      <td>18</td>\n      <td>25 %</td>\n    </tr>\n    <tr>\n      <th>128</th>\n      <td>Albania</td>\n      <td>2878471</td>\n      <td>105</td>\n      <td>36</td>\n      <td>63 %</td>\n    </tr>\n    <tr>\n      <th>30</th>\n      <td>Algeria</td>\n      <td>43672620</td>\n      <td>18</td>\n      <td>29</td>\n      <td>73 %</td>\n    </tr>\n    <tr>\n      <th>166</th>\n      <td>Andorra</td>\n      <td>77238</td>\n      <td>164</td>\n      <td>N.A.</td>\n      <td>88 %</td>\n    </tr>\n    <tr>\n      <th>41</th>\n      <td>Angola</td>\n      <td>32627944</td>\n      <td>26</td>\n      <td>17</td>\n      <td>67 %</td>\n    </tr>\n  </tbody>\n</table>\n</div>",
                        "text/plain": "    Country (or dependency)  Population (2020)  Density (P/Km\u00b2) Med. Age  \\\n34              Afghanistan           38728504               60       18   \n128                 Albania            2878471              105       36   \n30                  Algeria           43672620               18       29   \n166                 Andorra              77238              164     N.A.   \n41                   Angola           32627944               26       17   \n\n    Urban Pop %  \n34         25 %  \n128        63 %  \n30         73 %  \n166        88 %  \n41         67 %  "
                    },
                    "execution_count": 140,
                    "metadata": {},
                    "output_type": "execute_result"
                }
            ],
            "source": "df_pop_glb = sort_country(df_pop_glb, 'Country (or dependency)')\ndf_pop_glb.head()"
        },
        {
            "cell_type": "markdown",
            "metadata": {},
            "source": "## Create clean feature columns from the infection data"
        },
        {
            "cell_type": "code",
            "execution_count": 141,
            "metadata": {},
            "outputs": [],
            "source": "def date_slice(df: pd.DataFrame) -> pd.DataFrame:\n    '''creates a slice of only the date columns'''\n    df = df.iloc[:, 1:]\n    df.reset_index(drop=True)\n    return df"
        },
        {
            "cell_type": "code",
            "execution_count": 142,
            "metadata": {},
            "outputs": [
                {
                    "data": {
                        "text/html": "<div>\n<style scoped>\n    .dataframe tbody tr th:only-of-type {\n        vertical-align: middle;\n    }\n\n    .dataframe tbody tr th {\n        vertical-align: top;\n    }\n\n    .dataframe thead th {\n        text-align: right;\n    }\n</style>\n<table border=\"1\" class=\"dataframe\">\n  <thead>\n    <tr style=\"text-align: right;\">\n      <th></th>\n      <th>1/22/20</th>\n      <th>1/23/20</th>\n      <th>1/24/20</th>\n      <th>1/25/20</th>\n      <th>1/26/20</th>\n      <th>1/27/20</th>\n      <th>1/28/20</th>\n      <th>1/29/20</th>\n      <th>1/30/20</th>\n      <th>1/31/20</th>\n      <th>...</th>\n      <th>4/4/20</th>\n      <th>4/5/20</th>\n      <th>4/6/20</th>\n      <th>4/7/20</th>\n      <th>4/8/20</th>\n      <th>4/9/20</th>\n      <th>4/10/20</th>\n      <th>4/11/20</th>\n      <th>4/12/20</th>\n      <th>4/13/20</th>\n    </tr>\n  </thead>\n  <tbody>\n    <tr>\n      <th>0</th>\n      <td>0</td>\n      <td>0</td>\n      <td>0</td>\n      <td>0</td>\n      <td>0</td>\n      <td>0</td>\n      <td>0</td>\n      <td>0</td>\n      <td>0</td>\n      <td>0</td>\n      <td>...</td>\n      <td>299</td>\n      <td>349</td>\n      <td>367</td>\n      <td>423</td>\n      <td>444</td>\n      <td>484</td>\n      <td>521</td>\n      <td>555</td>\n      <td>607</td>\n      <td>665</td>\n    </tr>\n    <tr>\n      <th>1</th>\n      <td>0</td>\n      <td>0</td>\n      <td>0</td>\n      <td>0</td>\n      <td>0</td>\n      <td>0</td>\n      <td>0</td>\n      <td>0</td>\n      <td>0</td>\n      <td>0</td>\n      <td>...</td>\n      <td>333</td>\n      <td>361</td>\n      <td>377</td>\n      <td>383</td>\n      <td>400</td>\n      <td>409</td>\n      <td>416</td>\n      <td>433</td>\n      <td>446</td>\n      <td>467</td>\n    </tr>\n    <tr>\n      <th>2</th>\n      <td>0</td>\n      <td>0</td>\n      <td>0</td>\n      <td>0</td>\n      <td>0</td>\n      <td>0</td>\n      <td>0</td>\n      <td>0</td>\n      <td>0</td>\n      <td>0</td>\n      <td>...</td>\n      <td>1251</td>\n      <td>1320</td>\n      <td>1423</td>\n      <td>1468</td>\n      <td>1572</td>\n      <td>1666</td>\n      <td>1761</td>\n      <td>1825</td>\n      <td>1914</td>\n      <td>1983</td>\n    </tr>\n    <tr>\n      <th>3</th>\n      <td>0</td>\n      <td>0</td>\n      <td>0</td>\n      <td>0</td>\n      <td>0</td>\n      <td>0</td>\n      <td>0</td>\n      <td>0</td>\n      <td>0</td>\n      <td>0</td>\n      <td>...</td>\n      <td>466</td>\n      <td>501</td>\n      <td>525</td>\n      <td>545</td>\n      <td>564</td>\n      <td>583</td>\n      <td>601</td>\n      <td>601</td>\n      <td>638</td>\n      <td>646</td>\n    </tr>\n    <tr>\n      <th>4</th>\n      <td>0</td>\n      <td>0</td>\n      <td>0</td>\n      <td>0</td>\n      <td>0</td>\n      <td>0</td>\n      <td>0</td>\n      <td>0</td>\n      <td>0</td>\n      <td>0</td>\n      <td>...</td>\n      <td>10</td>\n      <td>14</td>\n      <td>16</td>\n      <td>17</td>\n      <td>19</td>\n      <td>19</td>\n      <td>19</td>\n      <td>19</td>\n      <td>19</td>\n      <td>19</td>\n    </tr>\n  </tbody>\n</table>\n<p>5 rows \u00d7 83 columns</p>\n</div>",
                        "text/plain": "   1/22/20  1/23/20  1/24/20  1/25/20  1/26/20  1/27/20  1/28/20  1/29/20  \\\n0        0        0        0        0        0        0        0        0   \n1        0        0        0        0        0        0        0        0   \n2        0        0        0        0        0        0        0        0   \n3        0        0        0        0        0        0        0        0   \n4        0        0        0        0        0        0        0        0   \n\n   1/30/20  1/31/20  ...  4/4/20  4/5/20  4/6/20  4/7/20  4/8/20  4/9/20  \\\n0        0        0  ...     299     349     367     423     444     484   \n1        0        0  ...     333     361     377     383     400     409   \n2        0        0  ...    1251    1320    1423    1468    1572    1666   \n3        0        0  ...     466     501     525     545     564     583   \n4        0        0  ...      10      14      16      17      19      19   \n\n   4/10/20  4/11/20  4/12/20  4/13/20  \n0      521      555      607      665  \n1      416      433      446      467  \n2     1761     1825     1914     1983  \n3      601      601      638      646  \n4       19       19       19       19  \n\n[5 rows x 83 columns]"
                    },
                    "execution_count": 142,
                    "metadata": {},
                    "output_type": "execute_result"
                }
            ],
            "source": "df_confirm_glb_date = date_slice(df_confirm_glb)\ndf_confirm_glb_date.head()"
        },
        {
            "cell_type": "code",
            "execution_count": 143,
            "metadata": {},
            "outputs": [
                {
                    "data": {
                        "text/html": "<div>\n<style scoped>\n    .dataframe tbody tr th:only-of-type {\n        vertical-align: middle;\n    }\n\n    .dataframe tbody tr th {\n        vertical-align: top;\n    }\n\n    .dataframe thead th {\n        text-align: right;\n    }\n</style>\n<table border=\"1\" class=\"dataframe\">\n  <thead>\n    <tr style=\"text-align: right;\">\n      <th></th>\n      <th>1/22/20</th>\n      <th>1/23/20</th>\n      <th>1/24/20</th>\n      <th>1/25/20</th>\n      <th>1/26/20</th>\n      <th>1/27/20</th>\n      <th>1/28/20</th>\n      <th>1/29/20</th>\n      <th>1/30/20</th>\n      <th>1/31/20</th>\n      <th>...</th>\n      <th>4/4/20</th>\n      <th>4/5/20</th>\n      <th>4/6/20</th>\n      <th>4/7/20</th>\n      <th>4/8/20</th>\n      <th>4/9/20</th>\n      <th>4/10/20</th>\n      <th>4/11/20</th>\n      <th>4/12/20</th>\n      <th>4/13/20</th>\n    </tr>\n  </thead>\n  <tbody>\n    <tr>\n      <th>0</th>\n      <td>0</td>\n      <td>0</td>\n      <td>0</td>\n      <td>0</td>\n      <td>0</td>\n      <td>0</td>\n      <td>0</td>\n      <td>0</td>\n      <td>0</td>\n      <td>0</td>\n      <td>...</td>\n      <td>7</td>\n      <td>7</td>\n      <td>11</td>\n      <td>14</td>\n      <td>14</td>\n      <td>15</td>\n      <td>15</td>\n      <td>18</td>\n      <td>18</td>\n      <td>21</td>\n    </tr>\n    <tr>\n      <th>1</th>\n      <td>0</td>\n      <td>0</td>\n      <td>0</td>\n      <td>0</td>\n      <td>0</td>\n      <td>0</td>\n      <td>0</td>\n      <td>0</td>\n      <td>0</td>\n      <td>0</td>\n      <td>...</td>\n      <td>20</td>\n      <td>20</td>\n      <td>21</td>\n      <td>22</td>\n      <td>22</td>\n      <td>23</td>\n      <td>23</td>\n      <td>23</td>\n      <td>23</td>\n      <td>23</td>\n    </tr>\n    <tr>\n      <th>2</th>\n      <td>0</td>\n      <td>0</td>\n      <td>0</td>\n      <td>0</td>\n      <td>0</td>\n      <td>0</td>\n      <td>0</td>\n      <td>0</td>\n      <td>0</td>\n      <td>0</td>\n      <td>...</td>\n      <td>130</td>\n      <td>152</td>\n      <td>173</td>\n      <td>193</td>\n      <td>205</td>\n      <td>235</td>\n      <td>256</td>\n      <td>275</td>\n      <td>293</td>\n      <td>313</td>\n    </tr>\n    <tr>\n      <th>3</th>\n      <td>0</td>\n      <td>0</td>\n      <td>0</td>\n      <td>0</td>\n      <td>0</td>\n      <td>0</td>\n      <td>0</td>\n      <td>0</td>\n      <td>0</td>\n      <td>0</td>\n      <td>...</td>\n      <td>17</td>\n      <td>18</td>\n      <td>21</td>\n      <td>22</td>\n      <td>23</td>\n      <td>25</td>\n      <td>26</td>\n      <td>26</td>\n      <td>29</td>\n      <td>29</td>\n    </tr>\n    <tr>\n      <th>4</th>\n      <td>0</td>\n      <td>0</td>\n      <td>0</td>\n      <td>0</td>\n      <td>0</td>\n      <td>0</td>\n      <td>0</td>\n      <td>0</td>\n      <td>0</td>\n      <td>0</td>\n      <td>...</td>\n      <td>2</td>\n      <td>2</td>\n      <td>2</td>\n      <td>2</td>\n      <td>2</td>\n      <td>2</td>\n      <td>2</td>\n      <td>2</td>\n      <td>2</td>\n      <td>2</td>\n    </tr>\n  </tbody>\n</table>\n<p>5 rows \u00d7 83 columns</p>\n</div>",
                        "text/plain": "   1/22/20  1/23/20  1/24/20  1/25/20  1/26/20  1/27/20  1/28/20  1/29/20  \\\n0        0        0        0        0        0        0        0        0   \n1        0        0        0        0        0        0        0        0   \n2        0        0        0        0        0        0        0        0   \n3        0        0        0        0        0        0        0        0   \n4        0        0        0        0        0        0        0        0   \n\n   1/30/20  1/31/20  ...  4/4/20  4/5/20  4/6/20  4/7/20  4/8/20  4/9/20  \\\n0        0        0  ...       7       7      11      14      14      15   \n1        0        0  ...      20      20      21      22      22      23   \n2        0        0  ...     130     152     173     193     205     235   \n3        0        0  ...      17      18      21      22      23      25   \n4        0        0  ...       2       2       2       2       2       2   \n\n   4/10/20  4/11/20  4/12/20  4/13/20  \n0       15       18       18       21  \n1       23       23       23       23  \n2      256      275      293      313  \n3       26       26       29       29  \n4        2        2        2        2  \n\n[5 rows x 83 columns]"
                    },
                    "execution_count": 143,
                    "metadata": {},
                    "output_type": "execute_result"
                }
            ],
            "source": "df_death_glb_date = date_slice(df_death_glb)\ndf_death_glb_date.head()"
        },
        {
            "cell_type": "code",
            "execution_count": 144,
            "metadata": {},
            "outputs": [
                {
                    "data": {
                        "text/html": "<div>\n<style scoped>\n    .dataframe tbody tr th:only-of-type {\n        vertical-align: middle;\n    }\n\n    .dataframe tbody tr th {\n        vertical-align: top;\n    }\n\n    .dataframe thead th {\n        text-align: right;\n    }\n</style>\n<table border=\"1\" class=\"dataframe\">\n  <thead>\n    <tr style=\"text-align: right;\">\n      <th></th>\n      <th>1/22/20</th>\n      <th>1/23/20</th>\n      <th>1/24/20</th>\n      <th>1/25/20</th>\n      <th>1/26/20</th>\n      <th>1/27/20</th>\n      <th>1/28/20</th>\n      <th>1/29/20</th>\n      <th>1/30/20</th>\n      <th>1/31/20</th>\n      <th>...</th>\n      <th>4/4/20</th>\n      <th>4/5/20</th>\n      <th>4/6/20</th>\n      <th>4/7/20</th>\n      <th>4/8/20</th>\n      <th>4/9/20</th>\n      <th>4/10/20</th>\n      <th>4/11/20</th>\n      <th>4/12/20</th>\n      <th>4/13/20</th>\n    </tr>\n  </thead>\n  <tbody>\n    <tr>\n      <th>0</th>\n      <td>0</td>\n      <td>0</td>\n      <td>0</td>\n      <td>0</td>\n      <td>0</td>\n      <td>0</td>\n      <td>0</td>\n      <td>0</td>\n      <td>0</td>\n      <td>0</td>\n      <td>...</td>\n      <td>10</td>\n      <td>15</td>\n      <td>18</td>\n      <td>18</td>\n      <td>29</td>\n      <td>32</td>\n      <td>32</td>\n      <td>32</td>\n      <td>32</td>\n      <td>32</td>\n    </tr>\n    <tr>\n      <th>1</th>\n      <td>0</td>\n      <td>0</td>\n      <td>0</td>\n      <td>0</td>\n      <td>0</td>\n      <td>0</td>\n      <td>0</td>\n      <td>0</td>\n      <td>0</td>\n      <td>0</td>\n      <td>...</td>\n      <td>99</td>\n      <td>104</td>\n      <td>116</td>\n      <td>131</td>\n      <td>154</td>\n      <td>165</td>\n      <td>182</td>\n      <td>197</td>\n      <td>217</td>\n      <td>232</td>\n    </tr>\n    <tr>\n      <th>2</th>\n      <td>0</td>\n      <td>0</td>\n      <td>0</td>\n      <td>0</td>\n      <td>0</td>\n      <td>0</td>\n      <td>0</td>\n      <td>0</td>\n      <td>0</td>\n      <td>0</td>\n      <td>...</td>\n      <td>90</td>\n      <td>90</td>\n      <td>90</td>\n      <td>113</td>\n      <td>237</td>\n      <td>347</td>\n      <td>405</td>\n      <td>460</td>\n      <td>591</td>\n      <td>601</td>\n    </tr>\n    <tr>\n      <th>3</th>\n      <td>0</td>\n      <td>0</td>\n      <td>0</td>\n      <td>0</td>\n      <td>0</td>\n      <td>0</td>\n      <td>0</td>\n      <td>0</td>\n      <td>0</td>\n      <td>0</td>\n      <td>...</td>\n      <td>21</td>\n      <td>26</td>\n      <td>31</td>\n      <td>39</td>\n      <td>52</td>\n      <td>58</td>\n      <td>71</td>\n      <td>71</td>\n      <td>128</td>\n      <td>128</td>\n    </tr>\n    <tr>\n      <th>4</th>\n      <td>0</td>\n      <td>0</td>\n      <td>0</td>\n      <td>0</td>\n      <td>0</td>\n      <td>0</td>\n      <td>0</td>\n      <td>0</td>\n      <td>0</td>\n      <td>0</td>\n      <td>...</td>\n      <td>2</td>\n      <td>2</td>\n      <td>2</td>\n      <td>2</td>\n      <td>2</td>\n      <td>2</td>\n      <td>2</td>\n      <td>4</td>\n      <td>4</td>\n      <td>4</td>\n    </tr>\n  </tbody>\n</table>\n<p>5 rows \u00d7 83 columns</p>\n</div>",
                        "text/plain": "   1/22/20  1/23/20  1/24/20  1/25/20  1/26/20  1/27/20  1/28/20  1/29/20  \\\n0        0        0        0        0        0        0        0        0   \n1        0        0        0        0        0        0        0        0   \n2        0        0        0        0        0        0        0        0   \n3        0        0        0        0        0        0        0        0   \n4        0        0        0        0        0        0        0        0   \n\n   1/30/20  1/31/20  ...  4/4/20  4/5/20  4/6/20  4/7/20  4/8/20  4/9/20  \\\n0        0        0  ...      10      15      18      18      29      32   \n1        0        0  ...      99     104     116     131     154     165   \n2        0        0  ...      90      90      90     113     237     347   \n3        0        0  ...      21      26      31      39      52      58   \n4        0        0  ...       2       2       2       2       2       2   \n\n   4/10/20  4/11/20  4/12/20  4/13/20  \n0       32       32       32       32  \n1      182      197      217      232  \n2      405      460      591      601  \n3       71       71      128      128  \n4        2        4        4        4  \n\n[5 rows x 83 columns]"
                    },
                    "execution_count": 144,
                    "metadata": {},
                    "output_type": "execute_result"
                }
            ],
            "source": "df_recover_glb_date = date_slice(df_recover_glb)\ndf_recover_glb_date.head()"
        },
        {
            "cell_type": "code",
            "execution_count": 145,
            "metadata": {},
            "outputs": [
                {
                    "name": "stdout",
                    "output_type": "stream",
                    "text": "(172, 83) (172, 83) (172, 83)\n"
                }
            ],
            "source": "print(df_confirm_glb_date.shape, df_death_glb_date.shape, df_recover_glb_date.shape)"
        },
        {
            "cell_type": "code",
            "execution_count": 146,
            "metadata": {},
            "outputs": [],
            "source": "def row_transfer(df: pd.DataFrame, length: pd.DataFrame, name: str) -> pd.DataFrame:\n    '''tranfers values in rows from dataframe into a single column of floats'''\n    list_ = []\n    \n    for i in range(len(length)):\n        v = df.iloc[i]  \n        list_.append(v)\n\n    list_col = pd.concat((list_), axis=0)\n    \n    df_col = pd.DataFrame(list_col).reset_index(drop=True)\n    df_col.columns=[f'{name}']\n    df_col = df_col.astype({f'{name}' : 'float64'})\n\n    return df_col\n    "
        },
        {
            "cell_type": "code",
            "execution_count": 147,
            "metadata": {},
            "outputs": [
                {
                    "data": {
                        "text/html": "<div>\n<style scoped>\n    .dataframe tbody tr th:only-of-type {\n        vertical-align: middle;\n    }\n\n    .dataframe tbody tr th {\n        vertical-align: top;\n    }\n\n    .dataframe thead th {\n        text-align: right;\n    }\n</style>\n<table border=\"1\" class=\"dataframe\">\n  <thead>\n    <tr style=\"text-align: right;\">\n      <th></th>\n      <th>Global_Confirmed</th>\n    </tr>\n  </thead>\n  <tbody>\n    <tr>\n      <th>0</th>\n      <td>0.0</td>\n    </tr>\n    <tr>\n      <th>1</th>\n      <td>0.0</td>\n    </tr>\n    <tr>\n      <th>2</th>\n      <td>0.0</td>\n    </tr>\n    <tr>\n      <th>3</th>\n      <td>0.0</td>\n    </tr>\n    <tr>\n      <th>4</th>\n      <td>0.0</td>\n    </tr>\n  </tbody>\n</table>\n</div>",
                        "text/plain": "   Global_Confirmed\n0               0.0\n1               0.0\n2               0.0\n3               0.0\n4               0.0"
                    },
                    "execution_count": 147,
                    "metadata": {},
                    "output_type": "execute_result"
                }
            ],
            "source": "df_confirm_glb_col = row_transfer(df_confirm_glb_date, df_confirm_glb_date, 'Global_Confirmed')\ndf_confirm_glb_col.head()"
        },
        {
            "cell_type": "code",
            "execution_count": 148,
            "metadata": {},
            "outputs": [
                {
                    "data": {
                        "text/html": "<div>\n<style scoped>\n    .dataframe tbody tr th:only-of-type {\n        vertical-align: middle;\n    }\n\n    .dataframe tbody tr th {\n        vertical-align: top;\n    }\n\n    .dataframe thead th {\n        text-align: right;\n    }\n</style>\n<table border=\"1\" class=\"dataframe\">\n  <thead>\n    <tr style=\"text-align: right;\">\n      <th></th>\n      <th>Global_Deaths</th>\n    </tr>\n  </thead>\n  <tbody>\n    <tr>\n      <th>0</th>\n      <td>0.0</td>\n    </tr>\n    <tr>\n      <th>1</th>\n      <td>0.0</td>\n    </tr>\n    <tr>\n      <th>2</th>\n      <td>0.0</td>\n    </tr>\n    <tr>\n      <th>3</th>\n      <td>0.0</td>\n    </tr>\n    <tr>\n      <th>4</th>\n      <td>0.0</td>\n    </tr>\n  </tbody>\n</table>\n</div>",
                        "text/plain": "   Global_Deaths\n0            0.0\n1            0.0\n2            0.0\n3            0.0\n4            0.0"
                    },
                    "execution_count": 148,
                    "metadata": {},
                    "output_type": "execute_result"
                }
            ],
            "source": "df_death_glb_col = row_transfer(df_death_glb_date, df_death_glb_date, 'Global_Deaths')\ndf_death_glb_col.head()"
        },
        {
            "cell_type": "code",
            "execution_count": 149,
            "metadata": {},
            "outputs": [
                {
                    "data": {
                        "text/html": "<div>\n<style scoped>\n    .dataframe tbody tr th:only-of-type {\n        vertical-align: middle;\n    }\n\n    .dataframe tbody tr th {\n        vertical-align: top;\n    }\n\n    .dataframe thead th {\n        text-align: right;\n    }\n</style>\n<table border=\"1\" class=\"dataframe\">\n  <thead>\n    <tr style=\"text-align: right;\">\n      <th></th>\n      <th>Global_Recovered</th>\n    </tr>\n  </thead>\n  <tbody>\n    <tr>\n      <th>0</th>\n      <td>0.0</td>\n    </tr>\n    <tr>\n      <th>1</th>\n      <td>0.0</td>\n    </tr>\n    <tr>\n      <th>2</th>\n      <td>0.0</td>\n    </tr>\n    <tr>\n      <th>3</th>\n      <td>0.0</td>\n    </tr>\n    <tr>\n      <th>4</th>\n      <td>0.0</td>\n    </tr>\n  </tbody>\n</table>\n</div>",
                        "text/plain": "   Global_Recovered\n0               0.0\n1               0.0\n2               0.0\n3               0.0\n4               0.0"
                    },
                    "execution_count": 149,
                    "metadata": {},
                    "output_type": "execute_result"
                }
            ],
            "source": "df_recover_glb_col = row_transfer(df_recover_glb_date, df_recover_glb_date, 'Global_Recovered')\ndf_recover_glb_col.head()"
        },
        {
            "cell_type": "code",
            "execution_count": 150,
            "metadata": {},
            "outputs": [
                {
                    "name": "stdout",
                    "output_type": "stream",
                    "text": "(14276, 1) (14276, 1) (14276, 1)\n"
                }
            ],
            "source": "print(df_confirm_glb_col.shape, df_death_glb_col.shape, df_recover_glb_col.shape)"
        },
        {
            "cell_type": "code",
            "execution_count": 151,
            "metadata": {},
            "outputs": [],
            "source": "def value_stack(df: pd.DataFrame, length: pd.DataFrame, name: str) -> pd.DataFrame:\n    '''creates a stack of repeated values from each index, length is based on number of recorded dates'''\n    \n    list_ = []\n    num_count = len(length)\n\n    for i in df:\n        v=0\n        while v < num_count:\n            list_.append(i)\n            v+=1\n\n    df_col = pd.DataFrame(list_)\n\n    df_col.columns=([f'{name}'])\n        \n    return df_col"
        },
        {
            "cell_type": "code",
            "execution_count": 152,
            "metadata": {},
            "outputs": [
                {
                    "name": "stdout",
                    "output_type": "stream",
                    "text": "(14276, 1)\n"
                },
                {
                    "data": {
                        "text/html": "<div>\n<style scoped>\n    .dataframe tbody tr th:only-of-type {\n        vertical-align: middle;\n    }\n\n    .dataframe tbody tr th {\n        vertical-align: top;\n    }\n\n    .dataframe thead th {\n        text-align: right;\n    }\n</style>\n<table border=\"1\" class=\"dataframe\">\n  <thead>\n    <tr style=\"text-align: right;\">\n      <th></th>\n      <th>Country_Region</th>\n    </tr>\n  </thead>\n  <tbody>\n    <tr>\n      <th>0</th>\n      <td>Afghanistan</td>\n    </tr>\n    <tr>\n      <th>1</th>\n      <td>Afghanistan</td>\n    </tr>\n    <tr>\n      <th>2</th>\n      <td>Afghanistan</td>\n    </tr>\n    <tr>\n      <th>3</th>\n      <td>Afghanistan</td>\n    </tr>\n    <tr>\n      <th>4</th>\n      <td>Afghanistan</td>\n    </tr>\n  </tbody>\n</table>\n</div>",
                        "text/plain": "  Country_Region\n0    Afghanistan\n1    Afghanistan\n2    Afghanistan\n3    Afghanistan\n4    Afghanistan"
                    },
                    "execution_count": 152,
                    "metadata": {},
                    "output_type": "execute_result"
                }
            ],
            "source": "df_country = value_stack(df_confirm_glb['Country/Region'], df_confirm_glb_date.columns, 'Country_Region')\nprint(df_country.shape)\ndf_country.head()"
        },
        {
            "cell_type": "code",
            "execution_count": 153,
            "metadata": {},
            "outputs": [],
            "source": "def dat_column(df: pd.DataFrame, length: pd.DataFrame, name: str) -> pd.DataFrame:\n    '''converts dates into a single column of datetimes'''\n    \n    list_ = []\n    num_date = len(length)\n    u=0\n\n    while u < num_date:\n        for i in df:\n            list_.append(i)\n        u+=1\n\n    df_col = pd.DataFrame(list_)\n\n    df_col.columns=([f'{name}'])\n    df_col[f'{name}'] = pd.to_datetime(df_col[f'{name}']) \n        \n    return df_col"
        },
        {
            "cell_type": "code",
            "execution_count": 154,
            "metadata": {},
            "outputs": [
                {
                    "name": "stdout",
                    "output_type": "stream",
                    "text": "(14276, 1)\n"
                },
                {
                    "data": {
                        "text/html": "<div>\n<style scoped>\n    .dataframe tbody tr th:only-of-type {\n        vertical-align: middle;\n    }\n\n    .dataframe tbody tr th {\n        vertical-align: top;\n    }\n\n    .dataframe thead th {\n        text-align: right;\n    }\n</style>\n<table border=\"1\" class=\"dataframe\">\n  <thead>\n    <tr style=\"text-align: right;\">\n      <th></th>\n      <th>Dates</th>\n    </tr>\n  </thead>\n  <tbody>\n    <tr>\n      <th>0</th>\n      <td>2020-01-22</td>\n    </tr>\n    <tr>\n      <th>1</th>\n      <td>2020-01-23</td>\n    </tr>\n    <tr>\n      <th>2</th>\n      <td>2020-01-24</td>\n    </tr>\n    <tr>\n      <th>3</th>\n      <td>2020-01-25</td>\n    </tr>\n    <tr>\n      <th>4</th>\n      <td>2020-01-26</td>\n    </tr>\n  </tbody>\n</table>\n</div>",
                        "text/plain": "       Dates\n0 2020-01-22\n1 2020-01-23\n2 2020-01-24\n3 2020-01-25\n4 2020-01-26"
                    },
                    "execution_count": 154,
                    "metadata": {},
                    "output_type": "execute_result"
                }
            ],
            "source": "df_dates = dat_column(df_confirm_glb_date.columns, df_confirm_glb['Country/Region'], 'Dates')\nprint(df_dates.shape)\ndf_dates.head()"
        },
        {
            "cell_type": "markdown",
            "metadata": {},
            "source": "## Create clean feature columns from the population data"
        },
        {
            "cell_type": "code",
            "execution_count": 155,
            "metadata": {},
            "outputs": [
                {
                    "name": "stdout",
                    "output_type": "stream",
                    "text": "<class 'pandas.core.frame.DataFrame'>\nInt64Index: 172 entries, 34 to 68\nData columns (total 5 columns):\nCountry (or dependency)    172 non-null object\nPopulation (2020)          172 non-null int64\nDensity (P/Km\u00b2)            172 non-null int64\nMed. Age                   172 non-null object\nUrban Pop %                172 non-null object\ndtypes: int64(2), object(3)\nmemory usage: 8.1+ KB\n"
                }
            ],
            "source": "df_pop_glb.info()"
        },
        {
            "cell_type": "code",
            "execution_count": 156,
            "metadata": {},
            "outputs": [
                {
                    "data": {
                        "text/plain": "Country (or dependency)    0\nPopulation (2020)          0\nDensity (P/Km\u00b2)            0\nMed. Age                   0\nUrban Pop %                0\ndtype: int64"
                    },
                    "execution_count": 156,
                    "metadata": {},
                    "output_type": "execute_result"
                }
            ],
            "source": "# find any missing values\nna = df_pop_glb.isna()\nna.sum()"
        },
        {
            "cell_type": "code",
            "execution_count": 157,
            "metadata": {},
            "outputs": [
                {
                    "data": {
                        "text/html": "<div>\n<style scoped>\n    .dataframe tbody tr th:only-of-type {\n        vertical-align: middle;\n    }\n\n    .dataframe tbody tr th {\n        vertical-align: top;\n    }\n\n    .dataframe thead th {\n        text-align: right;\n    }\n</style>\n<table border=\"1\" class=\"dataframe\">\n  <thead>\n    <tr style=\"text-align: right;\">\n      <th></th>\n      <th>Country_Region</th>\n      <th>Population</th>\n      <th>Density (P/Km^2)</th>\n      <th>Median Age</th>\n      <th>Urban % of Pop.</th>\n    </tr>\n  </thead>\n  <tbody>\n    <tr>\n      <th>34</th>\n      <td>Afghanistan</td>\n      <td>38728504</td>\n      <td>60</td>\n      <td>18</td>\n      <td>25 %</td>\n    </tr>\n    <tr>\n      <th>128</th>\n      <td>Albania</td>\n      <td>2878471</td>\n      <td>105</td>\n      <td>36</td>\n      <td>63 %</td>\n    </tr>\n    <tr>\n      <th>30</th>\n      <td>Algeria</td>\n      <td>43672620</td>\n      <td>18</td>\n      <td>29</td>\n      <td>73 %</td>\n    </tr>\n    <tr>\n      <th>166</th>\n      <td>Andorra</td>\n      <td>77238</td>\n      <td>164</td>\n      <td>N.A.</td>\n      <td>88 %</td>\n    </tr>\n    <tr>\n      <th>41</th>\n      <td>Angola</td>\n      <td>32627944</td>\n      <td>26</td>\n      <td>17</td>\n      <td>67 %</td>\n    </tr>\n  </tbody>\n</table>\n</div>",
                        "text/plain": "    Country_Region  Population  Density (P/Km^2) Median Age Urban % of Pop.\n34     Afghanistan    38728504                60         18            25 %\n128        Albania     2878471               105         36            63 %\n30         Algeria    43672620                18         29            73 %\n166        Andorra       77238               164       N.A.            88 %\n41          Angola    32627944                26         17            67 %"
                    },
                    "execution_count": 157,
                    "metadata": {},
                    "output_type": "execute_result"
                }
            ],
            "source": "# rename the columns of the dataframe \ndf_pop_glb = df_pop_glb.rename(columns={'Country (or dependency)':'Country_Region' , 'Population (2020)':'Population', 'Med. Age':'Median Age',\n                                       'Density (P/Km\u00b2)':'Density (P/Km^2)', 'Urban Pop %':'Urban % of Pop.'})\ndf_pop_glb.head()"
        },
        {
            "cell_type": "code",
            "execution_count": 158,
            "metadata": {},
            "outputs": [
                {
                    "data": {
                        "text/html": "<div>\n<style scoped>\n    .dataframe tbody tr th:only-of-type {\n        vertical-align: middle;\n    }\n\n    .dataframe tbody tr th {\n        vertical-align: top;\n    }\n\n    .dataframe thead th {\n        text-align: right;\n    }\n</style>\n<table border=\"1\" class=\"dataframe\">\n  <thead>\n    <tr style=\"text-align: right;\">\n      <th></th>\n      <th>Country_Region</th>\n      <th>Population</th>\n      <th>Density (P/Km^2)</th>\n      <th>Median Age</th>\n      <th>Urban % of Pop.</th>\n    </tr>\n  </thead>\n  <tbody>\n    <tr>\n      <th>34</th>\n      <td>Afghanistan</td>\n      <td>38728504</td>\n      <td>60</td>\n      <td>18</td>\n      <td>25 %</td>\n    </tr>\n    <tr>\n      <th>128</th>\n      <td>Albania</td>\n      <td>2878471</td>\n      <td>105</td>\n      <td>36</td>\n      <td>63 %</td>\n    </tr>\n    <tr>\n      <th>30</th>\n      <td>Algeria</td>\n      <td>43672620</td>\n      <td>18</td>\n      <td>29</td>\n      <td>73 %</td>\n    </tr>\n    <tr>\n      <th>166</th>\n      <td>Andorra</td>\n      <td>77238</td>\n      <td>164</td>\n      <td>NaN</td>\n      <td>88 %</td>\n    </tr>\n    <tr>\n      <th>41</th>\n      <td>Angola</td>\n      <td>32627944</td>\n      <td>26</td>\n      <td>17</td>\n      <td>67 %</td>\n    </tr>\n  </tbody>\n</table>\n</div>",
                        "text/plain": "    Country_Region  Population  Density (P/Km^2) Median Age Urban % of Pop.\n34     Afghanistan    38728504                60         18            25 %\n128        Albania     2878471               105         36            63 %\n30         Algeria    43672620                18         29            73 %\n166        Andorra       77238               164        NaN            88 %\n41          Angola    32627944                26         17            67 %"
                    },
                    "execution_count": 158,
                    "metadata": {},
                    "output_type": "execute_result"
                }
            ],
            "source": "# replace 'N.A.' entries with the numpy missing marker\ndf_pop_glb.replace('N.A.', np.nan, inplace=True)\ndf_pop_glb.head()"
        },
        {
            "cell_type": "code",
            "execution_count": 159,
            "metadata": {},
            "outputs": [
                {
                    "data": {
                        "text/plain": "Country_Region      0\nPopulation          0\nDensity (P/Km^2)    0\nMedian Age          6\nUrban % of Pop.     5\ndtype: int64"
                    },
                    "execution_count": 159,
                    "metadata": {},
                    "output_type": "execute_result"
                }
            ],
            "source": "# numpy markers show missing values\nna = df_pop_glb.isna()\nna.sum()"
        },
        {
            "cell_type": "code",
            "execution_count": 160,
            "metadata": {},
            "outputs": [
                {
                    "data": {
                        "text/html": "<div>\n<style scoped>\n    .dataframe tbody tr th:only-of-type {\n        vertical-align: middle;\n    }\n\n    .dataframe tbody tr th {\n        vertical-align: top;\n    }\n\n    .dataframe thead th {\n        text-align: right;\n    }\n</style>\n<table border=\"1\" class=\"dataframe\">\n  <thead>\n    <tr style=\"text-align: right;\">\n      <th></th>\n      <th>Country_Region</th>\n      <th>Population</th>\n      <th>Density (P/Km^2)</th>\n      <th>Median Age</th>\n      <th>Urban % of Pop.</th>\n    </tr>\n  </thead>\n  <tbody>\n    <tr>\n      <th>34</th>\n      <td>Afghanistan</td>\n      <td>38728504</td>\n      <td>60</td>\n      <td>18</td>\n      <td>25</td>\n    </tr>\n    <tr>\n      <th>128</th>\n      <td>Albania</td>\n      <td>2878471</td>\n      <td>105</td>\n      <td>36</td>\n      <td>63</td>\n    </tr>\n    <tr>\n      <th>30</th>\n      <td>Algeria</td>\n      <td>43672620</td>\n      <td>18</td>\n      <td>29</td>\n      <td>73</td>\n    </tr>\n    <tr>\n      <th>166</th>\n      <td>Andorra</td>\n      <td>77238</td>\n      <td>164</td>\n      <td>NaN</td>\n      <td>88</td>\n    </tr>\n    <tr>\n      <th>41</th>\n      <td>Angola</td>\n      <td>32627944</td>\n      <td>26</td>\n      <td>17</td>\n      <td>67</td>\n    </tr>\n  </tbody>\n</table>\n</div>",
                        "text/plain": "    Country_Region  Population  Density (P/Km^2) Median Age Urban % of Pop.\n34     Afghanistan    38728504                60         18             25 \n128        Albania     2878471               105         36             63 \n30         Algeria    43672620                18         29             73 \n166        Andorra       77238               164        NaN             88 \n41          Angola    32627944                26         17             67 "
                    },
                    "execution_count": 160,
                    "metadata": {},
                    "output_type": "execute_result"
                }
            ],
            "source": "# strip the % symbol from the values in Urban % Pop. \ndf_pop_glb['Urban % of Pop.'] = df_pop_glb['Urban % of Pop.'].str.strip('%')\ndf_pop_glb.head()"
        },
        {
            "cell_type": "code",
            "execution_count": 161,
            "metadata": {},
            "outputs": [
                {
                    "data": {
                        "text/html": "<div>\n<style scoped>\n    .dataframe tbody tr th:only-of-type {\n        vertical-align: middle;\n    }\n\n    .dataframe tbody tr th {\n        vertical-align: top;\n    }\n\n    .dataframe thead th {\n        text-align: right;\n    }\n</style>\n<table border=\"1\" class=\"dataframe\">\n  <thead>\n    <tr style=\"text-align: right;\">\n      <th></th>\n      <th>Country_Region</th>\n      <th>Population</th>\n      <th>Density (P/Km^2)</th>\n      <th>Median Age</th>\n      <th>Urban % of Pop.</th>\n    </tr>\n  </thead>\n  <tbody>\n    <tr>\n      <th>34</th>\n      <td>Afghanistan</td>\n      <td>38728504.0</td>\n      <td>60.0</td>\n      <td>18.0</td>\n      <td>25.0</td>\n    </tr>\n    <tr>\n      <th>128</th>\n      <td>Albania</td>\n      <td>2878471.0</td>\n      <td>105.0</td>\n      <td>36.0</td>\n      <td>63.0</td>\n    </tr>\n    <tr>\n      <th>30</th>\n      <td>Algeria</td>\n      <td>43672620.0</td>\n      <td>18.0</td>\n      <td>29.0</td>\n      <td>73.0</td>\n    </tr>\n    <tr>\n      <th>166</th>\n      <td>Andorra</td>\n      <td>77238.0</td>\n      <td>164.0</td>\n      <td>NaN</td>\n      <td>88.0</td>\n    </tr>\n    <tr>\n      <th>41</th>\n      <td>Angola</td>\n      <td>32627944.0</td>\n      <td>26.0</td>\n      <td>17.0</td>\n      <td>67.0</td>\n    </tr>\n  </tbody>\n</table>\n</div>",
                        "text/plain": "    Country_Region  Population  Density (P/Km^2)  Median Age  Urban % of Pop.\n34     Afghanistan  38728504.0              60.0        18.0             25.0\n128        Albania   2878471.0             105.0        36.0             63.0\n30         Algeria  43672620.0              18.0        29.0             73.0\n166        Andorra     77238.0             164.0         NaN             88.0\n41          Angola  32627944.0              26.0        17.0             67.0"
                    },
                    "execution_count": 161,
                    "metadata": {},
                    "output_type": "execute_result"
                }
            ],
            "source": "# convert the integers in the dataframe to floats \ndf_pop_glb = df_pop_glb.astype({'Population':'float64', 'Density (P/Km^2)':'float64', 'Median Age':'float64', 'Urban % of Pop.':'float64'})\ndf_pop_glb.head()"
        },
        {
            "cell_type": "code",
            "execution_count": 162,
            "metadata": {},
            "outputs": [
                {
                    "data": {
                        "text/plain": "Population          4.360797e+07\nDensity (P/Km^2)    3.739128e+02\nMedian Age          3.061446e+01\nUrban % of Pop.     6.019760e+01\ndtype: float64"
                    },
                    "execution_count": 162,
                    "metadata": {},
                    "output_type": "execute_result"
                }
            ],
            "source": "# calculate the mean of the float values\ndf_pop_glb.mean(skipna=True, axis=0)"
        },
        {
            "cell_type": "code",
            "execution_count": 163,
            "metadata": {},
            "outputs": [
                {
                    "name": "stdout",
                    "output_type": "stream",
                    "text": "Average Median Age 30.61\n"
                }
            ],
            "source": "# calulate the mean of the median age and print\navg_medage = df_pop_glb['Median Age'].astype('float').mean(axis=0)\navg_medage = round(avg_medage, 2)\nprint(\"Average Median Age\", avg_medage)"
        },
        {
            "cell_type": "code",
            "execution_count": 164,
            "metadata": {},
            "outputs": [
                {
                    "name": "stdout",
                    "output_type": "stream",
                    "text": "Average Urban % of Population 60.2\n"
                }
            ],
            "source": "# calculate the mean of the Urban % of Pop and print\navg_urb = df_pop_glb['Urban % of Pop.'].astype('float').mean(axis=0)\navg_urb = round(avg_urb, 2)\nprint(\"Average Urban % of Population\", avg_urb)"
        },
        {
            "cell_type": "code",
            "execution_count": 165,
            "metadata": {},
            "outputs": [
                {
                    "data": {
                        "text/html": "<div>\n<style scoped>\n    .dataframe tbody tr th:only-of-type {\n        vertical-align: middle;\n    }\n\n    .dataframe tbody tr th {\n        vertical-align: top;\n    }\n\n    .dataframe thead th {\n        text-align: right;\n    }\n</style>\n<table border=\"1\" class=\"dataframe\">\n  <thead>\n    <tr style=\"text-align: right;\">\n      <th></th>\n      <th>Country_Region</th>\n      <th>Population</th>\n      <th>Density (P/Km^2)</th>\n      <th>Median Age</th>\n      <th>Urban % of Pop.</th>\n    </tr>\n  </thead>\n  <tbody>\n    <tr>\n      <th>34</th>\n      <td>Afghanistan</td>\n      <td>38728504.0</td>\n      <td>60.0</td>\n      <td>18.00</td>\n      <td>25.0</td>\n    </tr>\n    <tr>\n      <th>128</th>\n      <td>Albania</td>\n      <td>2878471.0</td>\n      <td>105.0</td>\n      <td>36.00</td>\n      <td>63.0</td>\n    </tr>\n    <tr>\n      <th>30</th>\n      <td>Algeria</td>\n      <td>43672620.0</td>\n      <td>18.0</td>\n      <td>29.00</td>\n      <td>73.0</td>\n    </tr>\n    <tr>\n      <th>166</th>\n      <td>Andorra</td>\n      <td>77238.0</td>\n      <td>164.0</td>\n      <td>30.61</td>\n      <td>88.0</td>\n    </tr>\n    <tr>\n      <th>41</th>\n      <td>Angola</td>\n      <td>32627944.0</td>\n      <td>26.0</td>\n      <td>17.00</td>\n      <td>67.0</td>\n    </tr>\n  </tbody>\n</table>\n</div>",
                        "text/plain": "    Country_Region  Population  Density (P/Km^2)  Median Age  Urban % of Pop.\n34     Afghanistan  38728504.0              60.0       18.00             25.0\n128        Albania   2878471.0             105.0       36.00             63.0\n30         Algeria  43672620.0              18.0       29.00             73.0\n166        Andorra     77238.0             164.0       30.61             88.0\n41          Angola  32627944.0              26.0       17.00             67.0"
                    },
                    "execution_count": 165,
                    "metadata": {},
                    "output_type": "execute_result"
                }
            ],
            "source": "# replace the missing values in each category with the means\n\ndf_pop_glb['Median Age'] = df_pop_glb['Median Age'].replace(np.nan, avg_medage)\ndf_pop_glb['Urban % of Pop.'] = df_pop_glb['Urban % of Pop.'].replace(np.nan, avg_urb)\n\ndf_pop_glb.head()"
        },
        {
            "cell_type": "code",
            "execution_count": 166,
            "metadata": {},
            "outputs": [],
            "source": "# calculates the decimal value of the urban population percentage\ndf_pop_glb['Urban % of Pop.'] = df_pop_glb['Urban % of Pop.'].div(100)"
        },
        {
            "cell_type": "code",
            "execution_count": 167,
            "metadata": {},
            "outputs": [
                {
                    "data": {
                        "text/html": "<div>\n<style scoped>\n    .dataframe tbody tr th:only-of-type {\n        vertical-align: middle;\n    }\n\n    .dataframe tbody tr th {\n        vertical-align: top;\n    }\n\n    .dataframe thead th {\n        text-align: right;\n    }\n</style>\n<table border=\"1\" class=\"dataframe\">\n  <thead>\n    <tr style=\"text-align: right;\">\n      <th></th>\n      <th>Population_2020</th>\n    </tr>\n  </thead>\n  <tbody>\n    <tr>\n      <th>0</th>\n      <td>38728504.0</td>\n    </tr>\n    <tr>\n      <th>1</th>\n      <td>38728504.0</td>\n    </tr>\n    <tr>\n      <th>2</th>\n      <td>38728504.0</td>\n    </tr>\n    <tr>\n      <th>3</th>\n      <td>38728504.0</td>\n    </tr>\n    <tr>\n      <th>4</th>\n      <td>38728504.0</td>\n    </tr>\n  </tbody>\n</table>\n</div>",
                        "text/plain": "   Population_2020\n0       38728504.0\n1       38728504.0\n2       38728504.0\n3       38728504.0\n4       38728504.0"
                    },
                    "execution_count": 167,
                    "metadata": {},
                    "output_type": "execute_result"
                }
            ],
            "source": "df_pop_col = value_stack(df_pop_glb['Population'], df_confirm_glb_date.columns, 'Population_2020')\ndf_pop_col.shape\ndf_pop_col.head()"
        },
        {
            "cell_type": "code",
            "execution_count": 168,
            "metadata": {},
            "outputs": [
                {
                    "data": {
                        "text/html": "<div>\n<style scoped>\n    .dataframe tbody tr th:only-of-type {\n        vertical-align: middle;\n    }\n\n    .dataframe tbody tr th {\n        vertical-align: top;\n    }\n\n    .dataframe thead th {\n        text-align: right;\n    }\n</style>\n<table border=\"1\" class=\"dataframe\">\n  <thead>\n    <tr style=\"text-align: right;\">\n      <th></th>\n      <th>Density_(P/Km^2)</th>\n    </tr>\n  </thead>\n  <tbody>\n    <tr>\n      <th>0</th>\n      <td>60.0</td>\n    </tr>\n    <tr>\n      <th>1</th>\n      <td>60.0</td>\n    </tr>\n    <tr>\n      <th>2</th>\n      <td>60.0</td>\n    </tr>\n    <tr>\n      <th>3</th>\n      <td>60.0</td>\n    </tr>\n    <tr>\n      <th>4</th>\n      <td>60.0</td>\n    </tr>\n  </tbody>\n</table>\n</div>",
                        "text/plain": "   Density_(P/Km^2)\n0              60.0\n1              60.0\n2              60.0\n3              60.0\n4              60.0"
                    },
                    "execution_count": 168,
                    "metadata": {},
                    "output_type": "execute_result"
                }
            ],
            "source": "df_dens_col = value_stack(df_pop_glb['Density (P/Km^2)'], df_confirm_glb_date.columns, 'Density_(P/Km^2)')\ndf_dens_col.head()"
        },
        {
            "cell_type": "code",
            "execution_count": 169,
            "metadata": {},
            "outputs": [
                {
                    "data": {
                        "text/html": "<div>\n<style scoped>\n    .dataframe tbody tr th:only-of-type {\n        vertical-align: middle;\n    }\n\n    .dataframe tbody tr th {\n        vertical-align: top;\n    }\n\n    .dataframe thead th {\n        text-align: right;\n    }\n</style>\n<table border=\"1\" class=\"dataframe\">\n  <thead>\n    <tr style=\"text-align: right;\">\n      <th></th>\n      <th>Median_Age</th>\n    </tr>\n  </thead>\n  <tbody>\n    <tr>\n      <th>0</th>\n      <td>18.0</td>\n    </tr>\n    <tr>\n      <th>1</th>\n      <td>18.0</td>\n    </tr>\n    <tr>\n      <th>2</th>\n      <td>18.0</td>\n    </tr>\n    <tr>\n      <th>3</th>\n      <td>18.0</td>\n    </tr>\n    <tr>\n      <th>4</th>\n      <td>18.0</td>\n    </tr>\n  </tbody>\n</table>\n</div>",
                        "text/plain": "   Median_Age\n0        18.0\n1        18.0\n2        18.0\n3        18.0\n4        18.0"
                    },
                    "execution_count": 169,
                    "metadata": {},
                    "output_type": "execute_result"
                }
            ],
            "source": "df_medage_col = value_stack(df_pop_glb['Median Age'], df_confirm_glb_date.columns, 'Median_Age')\ndf_medage_col.head()"
        },
        {
            "cell_type": "code",
            "execution_count": 170,
            "metadata": {},
            "outputs": [
                {
                    "data": {
                        "text/html": "<div>\n<style scoped>\n    .dataframe tbody tr th:only-of-type {\n        vertical-align: middle;\n    }\n\n    .dataframe tbody tr th {\n        vertical-align: top;\n    }\n\n    .dataframe thead th {\n        text-align: right;\n    }\n</style>\n<table border=\"1\" class=\"dataframe\">\n  <thead>\n    <tr style=\"text-align: right;\">\n      <th></th>\n      <th>Urban_Pct</th>\n    </tr>\n  </thead>\n  <tbody>\n    <tr>\n      <th>0</th>\n      <td>0.25</td>\n    </tr>\n    <tr>\n      <th>1</th>\n      <td>0.25</td>\n    </tr>\n    <tr>\n      <th>2</th>\n      <td>0.25</td>\n    </tr>\n    <tr>\n      <th>3</th>\n      <td>0.25</td>\n    </tr>\n    <tr>\n      <th>4</th>\n      <td>0.25</td>\n    </tr>\n  </tbody>\n</table>\n</div>",
                        "text/plain": "   Urban_Pct\n0       0.25\n1       0.25\n2       0.25\n3       0.25\n4       0.25"
                    },
                    "execution_count": 170,
                    "metadata": {},
                    "output_type": "execute_result"
                }
            ],
            "source": "df_urban_col = value_stack(df_pop_glb['Urban % of Pop.'], df_confirm_glb_date.columns, 'Urban_Pct')\ndf_urban_col.head()"
        },
        {
            "cell_type": "code",
            "execution_count": 171,
            "metadata": {},
            "outputs": [
                {
                    "name": "stdout",
                    "output_type": "stream",
                    "text": "(14276, 1) (14276, 1) (14276, 1) (14276, 1) (14276, 1) (14276, 1)\n"
                }
            ],
            "source": "print(df_country.shape, df_dates.shape, df_pop_col.shape, df_dens_col.shape, df_medage_col.shape, df_urban_col.shape)"
        },
        {
            "cell_type": "markdown",
            "metadata": {},
            "source": "## Merge all of the feature columns into a single dataframe"
        },
        {
            "cell_type": "code",
            "execution_count": 172,
            "metadata": {},
            "outputs": [
                {
                    "data": {
                        "text/html": "<div>\n<style scoped>\n    .dataframe tbody tr th:only-of-type {\n        vertical-align: middle;\n    }\n\n    .dataframe tbody tr th {\n        vertical-align: top;\n    }\n\n    .dataframe thead th {\n        text-align: right;\n    }\n</style>\n<table border=\"1\" class=\"dataframe\">\n  <thead>\n    <tr style=\"text-align: right;\">\n      <th></th>\n      <th>Country_Region</th>\n      <th>Dates</th>\n      <th>Population_2020</th>\n      <th>Density_(P/Km^2)</th>\n      <th>Median_Age</th>\n      <th>Urban_Pct</th>\n      <th>Global_Confirmed</th>\n      <th>Global_Recovered</th>\n      <th>Global_Deaths</th>\n    </tr>\n  </thead>\n  <tbody>\n    <tr>\n      <th>0</th>\n      <td>Afghanistan</td>\n      <td>2020-01-22</td>\n      <td>38728504.0</td>\n      <td>60.0</td>\n      <td>18.0</td>\n      <td>0.25</td>\n      <td>0.0</td>\n      <td>0.0</td>\n      <td>0.0</td>\n    </tr>\n    <tr>\n      <th>1</th>\n      <td>Afghanistan</td>\n      <td>2020-01-23</td>\n      <td>38728504.0</td>\n      <td>60.0</td>\n      <td>18.0</td>\n      <td>0.25</td>\n      <td>0.0</td>\n      <td>0.0</td>\n      <td>0.0</td>\n    </tr>\n    <tr>\n      <th>2</th>\n      <td>Afghanistan</td>\n      <td>2020-01-24</td>\n      <td>38728504.0</td>\n      <td>60.0</td>\n      <td>18.0</td>\n      <td>0.25</td>\n      <td>0.0</td>\n      <td>0.0</td>\n      <td>0.0</td>\n    </tr>\n    <tr>\n      <th>3</th>\n      <td>Afghanistan</td>\n      <td>2020-01-25</td>\n      <td>38728504.0</td>\n      <td>60.0</td>\n      <td>18.0</td>\n      <td>0.25</td>\n      <td>0.0</td>\n      <td>0.0</td>\n      <td>0.0</td>\n    </tr>\n    <tr>\n      <th>4</th>\n      <td>Afghanistan</td>\n      <td>2020-01-26</td>\n      <td>38728504.0</td>\n      <td>60.0</td>\n      <td>18.0</td>\n      <td>0.25</td>\n      <td>0.0</td>\n      <td>0.0</td>\n      <td>0.0</td>\n    </tr>\n  </tbody>\n</table>\n</div>",
                        "text/plain": "  Country_Region      Dates  Population_2020  Density_(P/Km^2)  Median_Age  \\\n0    Afghanistan 2020-01-22       38728504.0              60.0        18.0   \n1    Afghanistan 2020-01-23       38728504.0              60.0        18.0   \n2    Afghanistan 2020-01-24       38728504.0              60.0        18.0   \n3    Afghanistan 2020-01-25       38728504.0              60.0        18.0   \n4    Afghanistan 2020-01-26       38728504.0              60.0        18.0   \n\n   Urban_Pct  Global_Confirmed  Global_Recovered  Global_Deaths  \n0       0.25               0.0               0.0            0.0  \n1       0.25               0.0               0.0            0.0  \n2       0.25               0.0               0.0            0.0  \n3       0.25               0.0               0.0            0.0  \n4       0.25               0.0               0.0            0.0  "
                    },
                    "execution_count": 172,
                    "metadata": {},
                    "output_type": "execute_result"
                }
            ],
            "source": "df_covid_glb_merge = pd.concat(([df_country, df_dates, df_pop_col, df_dens_col, df_medage_col, df_urban_col, \n                                 df_confirm_glb_col, df_recover_glb_col, df_death_glb_col]), axis=1)\ndf_covid_glb_merge.head()"
        },
        {
            "cell_type": "code",
            "execution_count": 173,
            "metadata": {},
            "outputs": [
                {
                    "data": {
                        "text/plain": "(14276, 9)"
                    },
                    "execution_count": 173,
                    "metadata": {},
                    "output_type": "execute_result"
                }
            ],
            "source": "df_covid_glb_merge.shape"
        },
        {
            "cell_type": "code",
            "execution_count": 174,
            "metadata": {},
            "outputs": [
                {
                    "name": "stdout",
                    "output_type": "stream",
                    "text": "<class 'pandas.core.frame.DataFrame'>\nRangeIndex: 14276 entries, 0 to 14275\nData columns (total 9 columns):\nCountry_Region      14276 non-null object\nDates               14276 non-null datetime64[ns]\nPopulation_2020     14276 non-null float64\nDensity_(P/Km^2)    14276 non-null float64\nMedian_Age          14276 non-null float64\nUrban_Pct           14276 non-null float64\nGlobal_Confirmed    14276 non-null float64\nGlobal_Recovered    14276 non-null float64\nGlobal_Deaths       14276 non-null float64\ndtypes: datetime64[ns](1), float64(7), object(1)\nmemory usage: 1003.9+ KB\n"
                }
            ],
            "source": "df_covid_glb_merge.info()"
        },
        {
            "cell_type": "code",
            "execution_count": 175,
            "metadata": {},
            "outputs": [
                {
                    "data": {
                        "text/plain": "Country_Region      0\nDates               0\nPopulation_2020     0\nDensity_(P/Km^2)    0\nMedian_Age          0\nUrban_Pct           0\nGlobal_Confirmed    0\nGlobal_Recovered    0\nGlobal_Deaths       0\ndtype: int64"
                    },
                    "execution_count": 175,
                    "metadata": {},
                    "output_type": "execute_result"
                }
            ],
            "source": "# check for missing values\nempty_cov = df_covid_glb_merge.isna()\nempty_cov.sum()"
        },
        {
            "cell_type": "markdown",
            "metadata": {},
            "source": "## Load the finished dataframe into cloud object storage"
        },
        {
            "cell_type": "code",
            "execution_count": null,
            "metadata": {},
            "outputs": [],
            "source": "# The code was removed by Watson Studio for sharing."
        }
    ],
    "metadata": {
        "kernelspec": {
            "display_name": "Python 3.6",
            "language": "python",
            "name": "python3"
        },
        "language_info": {
            "codemirror_mode": {
                "name": "ipython",
                "version": 3
            },
            "file_extension": ".py",
            "mimetype": "text/x-python",
            "name": "python",
            "nbconvert_exporter": "python",
            "pygments_lexer": "ipython3",
            "version": "3.6.9"
        }
    },
    "nbformat": 4,
    "nbformat_minor": 1
}