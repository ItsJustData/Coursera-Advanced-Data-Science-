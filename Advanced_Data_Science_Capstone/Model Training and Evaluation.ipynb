{
    "cells": [
        {
            "cell_type": "markdown",
            "metadata": {
                "collapsed": true
            },
            "source": "# Model Training/Evaluation\n\n### Student: David Anim-Addo\n\n### Course: IBM Advanced Datascience Capstone"
        },
        {
            "cell_type": "code",
            "execution_count": 2,
            "metadata": {},
            "outputs": [],
            "source": "# import the required libraries for defining the model\nimport pandas as pd\nimport numpy as np\nimport matplotlib.pyplot as plt\nimport matplotlib.dates as dates\nimport seaborn as sns\n%matplotlib inline \nfrom scipy.optimize import curve_fit\nfrom sklearn.ensemble import GradientBoostingRegressor\nfrom sklearn.model_selection import train_test_split\nfrom sklearn.metrics import mean_squared_error\nfrom sklearn.metrics import mean_squared_log_error\nfrom sklearn.metrics import mean_absolute_error\nfrom sklearn.metrics import r2_score"
        },
        {
            "cell_type": "markdown",
            "metadata": {},
            "source": "## Load and prepare the data for modeling"
        },
        {
            "cell_type": "code",
            "execution_count": 3,
            "metadata": {},
            "outputs": [
                {
                    "data": {
                        "text/html": "<div>\n<style scoped>\n    .dataframe tbody tr th:only-of-type {\n        vertical-align: middle;\n    }\n\n    .dataframe tbody tr th {\n        vertical-align: top;\n    }\n\n    .dataframe thead th {\n        text-align: right;\n    }\n</style>\n<table border=\"1\" class=\"dataframe\">\n  <thead>\n    <tr style=\"text-align: right;\">\n      <th></th>\n      <th>Country_Region</th>\n      <th>Dates</th>\n      <th>Global_Confirmed</th>\n      <th>Global_Recovered</th>\n      <th>Global_Deaths</th>\n    </tr>\n  </thead>\n  <tbody>\n    <tr>\n      <th>0</th>\n      <td>Afghanistan</td>\n      <td>2020-01-22</td>\n      <td>0.0</td>\n      <td>0.0</td>\n      <td>0.0</td>\n    </tr>\n    <tr>\n      <th>1</th>\n      <td>Afghanistan</td>\n      <td>2020-01-23</td>\n      <td>0.0</td>\n      <td>0.0</td>\n      <td>0.0</td>\n    </tr>\n    <tr>\n      <th>2</th>\n      <td>Afghanistan</td>\n      <td>2020-01-24</td>\n      <td>0.0</td>\n      <td>0.0</td>\n      <td>0.0</td>\n    </tr>\n    <tr>\n      <th>3</th>\n      <td>Afghanistan</td>\n      <td>2020-01-25</td>\n      <td>0.0</td>\n      <td>0.0</td>\n      <td>0.0</td>\n    </tr>\n    <tr>\n      <th>4</th>\n      <td>Afghanistan</td>\n      <td>2020-01-26</td>\n      <td>0.0</td>\n      <td>0.0</td>\n      <td>0.0</td>\n    </tr>\n  </tbody>\n</table>\n</div>",
                        "text/plain": "  Country_Region       Dates  Global_Confirmed  Global_Recovered  \\\n0    Afghanistan  2020-01-22               0.0               0.0   \n1    Afghanistan  2020-01-23               0.0               0.0   \n2    Afghanistan  2020-01-24               0.0               0.0   \n3    Afghanistan  2020-01-25               0.0               0.0   \n4    Afghanistan  2020-01-26               0.0               0.0   \n\n   Global_Deaths  \n0            0.0  \n1            0.0  \n2            0.0  \n3            0.0  \n4            0.0  "
                    },
                    "execution_count": 3,
                    "metadata": {},
                    "output_type": "execute_result"
                }
            ],
            "source": "# The code was removed by Watson Studio for sharing."
        },
        {
            "cell_type": "code",
            "execution_count": 4,
            "metadata": {},
            "outputs": [
                {
                    "data": {
                        "text/html": "<div>\n<style scoped>\n    .dataframe tbody tr th:only-of-type {\n        vertical-align: middle;\n    }\n\n    .dataframe tbody tr th {\n        vertical-align: top;\n    }\n\n    .dataframe thead th {\n        text-align: right;\n    }\n</style>\n<table border=\"1\" class=\"dataframe\">\n  <thead>\n    <tr style=\"text-align: right;\">\n      <th></th>\n      <th>Country/Region</th>\n    </tr>\n  </thead>\n  <tbody>\n    <tr>\n      <th>0</th>\n      <td>Afghanistan</td>\n    </tr>\n    <tr>\n      <th>1</th>\n      <td>Albania</td>\n    </tr>\n    <tr>\n      <th>2</th>\n      <td>Algeria</td>\n    </tr>\n    <tr>\n      <th>3</th>\n      <td>Andorra</td>\n    </tr>\n    <tr>\n      <th>4</th>\n      <td>Angola</td>\n    </tr>\n  </tbody>\n</table>\n</div>",
                        "text/plain": "  Country/Region\n0    Afghanistan\n1        Albania\n2        Algeria\n3        Andorra\n4         Angola"
                    },
                    "execution_count": 4,
                    "metadata": {},
                    "output_type": "execute_result"
                }
            ],
            "source": "# The code was removed by Watson Studio for sharing."
        },
        {
            "cell_type": "code",
            "execution_count": 5,
            "metadata": {},
            "outputs": [
                {
                    "name": "stdout",
                    "output_type": "stream",
                    "text": "<class 'pandas.core.frame.DataFrame'>\nRangeIndex: 16340 entries, 0 to 16339\nData columns (total 5 columns):\nCountry_Region      16340 non-null object\nDates               16340 non-null object\nGlobal_Confirmed    16340 non-null float64\nGlobal_Recovered    16340 non-null float64\nGlobal_Deaths       16340 non-null float64\ndtypes: float64(3), object(2)\nmemory usage: 638.4+ KB\n"
                }
            ],
            "source": "df_covid_test.info()"
        },
        {
            "cell_type": "code",
            "execution_count": 6,
            "metadata": {},
            "outputs": [
                {
                    "name": "stdout",
                    "output_type": "stream",
                    "text": "<class 'pandas.core.frame.DataFrame'>\nRangeIndex: 16340 entries, 0 to 16339\nData columns (total 5 columns):\nCountry_Region      16340 non-null object\nDates               16340 non-null datetime64[ns]\nGlobal_Confirmed    16340 non-null float64\nGlobal_Recovered    16340 non-null float64\nGlobal_Deaths       16340 non-null float64\ndtypes: datetime64[ns](1), float64(3), object(1)\nmemory usage: 638.4+ KB\n"
                }
            ],
            "source": "# convert values in the dates column to datetime\ndf_covid_test['Dates'] = pd.to_datetime(df_covid_test['Dates'])\ndf_covid_test.info()"
        },
        {
            "cell_type": "code",
            "execution_count": 7,
            "metadata": {},
            "outputs": [
                {
                    "name": "stdout",
                    "output_type": "stream",
                    "text": "<class 'pandas.core.frame.DataFrame'>\nRangeIndex: 16340 entries, 0 to 16339\nData columns (total 5 columns):\nCountry_Region      16340 non-null object\nDates               16340 non-null float64\nGlobal_Confirmed    16340 non-null float64\nGlobal_Recovered    16340 non-null float64\nGlobal_Deaths       16340 non-null float64\ndtypes: float64(4), object(1)\nmemory usage: 638.4+ KB\n"
                }
            ],
            "source": "# convert the datetime values to matplotlib floats\ndf_covid_test['Dates'] = dates.date2num(df_covid_test['Dates'].values)\ndf_covid_test.info()"
        },
        {
            "cell_type": "code",
            "execution_count": 8,
            "metadata": {},
            "outputs": [
                {
                    "data": {
                        "text/plain": "Country_Region      0\nDates               0\nGlobal_Confirmed    0\nGlobal_Recovered    0\nGlobal_Deaths       0\ndtype: int64"
                    },
                    "execution_count": 8,
                    "metadata": {},
                    "output_type": "execute_result"
                }
            ],
            "source": "# check for empty cells\ndf_covid_test.isna().sum()"
        },
        {
            "cell_type": "code",
            "execution_count": 9,
            "metadata": {},
            "outputs": [
                {
                    "data": {
                        "text/plain": "16340"
                    },
                    "execution_count": 9,
                    "metadata": {},
                    "output_type": "execute_result"
                }
            ],
            "source": "df_covid_test['Country_Region'].value_counts().sum()"
        },
        {
            "cell_type": "code",
            "execution_count": 10,
            "metadata": {},
            "outputs": [
                {
                    "data": {
                        "text/html": "<div>\n<style scoped>\n    .dataframe tbody tr th:only-of-type {\n        vertical-align: middle;\n    }\n\n    .dataframe tbody tr th {\n        vertical-align: top;\n    }\n\n    .dataframe thead th {\n        text-align: right;\n    }\n</style>\n<table border=\"1\" class=\"dataframe\">\n  <thead>\n    <tr style=\"text-align: right;\">\n      <th></th>\n      <th>Dates</th>\n      <th>Global_Confirmed</th>\n      <th>Global_Recovered</th>\n      <th>Global_Deaths</th>\n    </tr>\n    <tr>\n      <th>Country_Region</th>\n      <th></th>\n      <th></th>\n      <th></th>\n      <th></th>\n    </tr>\n  </thead>\n  <tbody>\n    <tr>\n      <th>Afghanistan</th>\n      <td>737446.0</td>\n      <td>0.0</td>\n      <td>0.0</td>\n      <td>0.0</td>\n    </tr>\n    <tr>\n      <th>Afghanistan</th>\n      <td>737447.0</td>\n      <td>0.0</td>\n      <td>0.0</td>\n      <td>0.0</td>\n    </tr>\n    <tr>\n      <th>Afghanistan</th>\n      <td>737448.0</td>\n      <td>0.0</td>\n      <td>0.0</td>\n      <td>0.0</td>\n    </tr>\n    <tr>\n      <th>Afghanistan</th>\n      <td>737449.0</td>\n      <td>0.0</td>\n      <td>0.0</td>\n      <td>0.0</td>\n    </tr>\n    <tr>\n      <th>Afghanistan</th>\n      <td>737450.0</td>\n      <td>0.0</td>\n      <td>0.0</td>\n      <td>0.0</td>\n    </tr>\n  </tbody>\n</table>\n</div>",
                        "text/plain": "                   Dates  Global_Confirmed  Global_Recovered  Global_Deaths\nCountry_Region                                                             \nAfghanistan     737446.0               0.0               0.0            0.0\nAfghanistan     737447.0               0.0               0.0            0.0\nAfghanistan     737448.0               0.0               0.0            0.0\nAfghanistan     737449.0               0.0               0.0            0.0\nAfghanistan     737450.0               0.0               0.0            0.0"
                    },
                    "execution_count": 10,
                    "metadata": {},
                    "output_type": "execute_result"
                }
            ],
            "source": "# set the countries as the index\ndf_covid_index = df_covid_test.set_index(['Country_Region'])\ndf_covid_index.head()"
        },
        {
            "cell_type": "markdown",
            "metadata": {},
            "source": "## Train the Gradient Boosted Regressor on the data (1/22/20 to 4/26/20)"
        },
        {
            "cell_type": "code",
            "execution_count": 20,
            "metadata": {},
            "outputs": [],
            "source": "# store the errors/scores\nerrors_mae =[]\nerrors_rmsle = []\nerrors_rmse = []\nscores_r2 = []\n\n# create a loop that trains the data from each country and stores the metrics\nfor i in df_covid_country.values:\n    df_test = df_covid_index.loc[i]\n    \n    # set the feature values for x and y\n    x_data = df_test['Dates'].values\n    y_data = df_test['Global_Deaths'].values\n    \n    if sum(y_data) == 0:\n        continue        \n\n    # Normalize the data before modeling\n    x_norm = x_data/max(x_data)\n    y_norm = y_data/max(y_data)\n\n    # split the data into train and test samples\n    x_train, x_test, y_train, y_test = train_test_split(x_norm, y_norm, test_size=0.2, random_state=4)\n      \n    # set the parameters\n    params = {'n_estimators': 100, 'max_depth': 5, 'learning_rate': 0.1, 'criterion': 'friedman_mse'}\n\n    # reshape the arrays without changing the data\n    x_train_reshape = x_train.reshape(-1,1) \n    x_test_reshape = x_test.reshape(-1,1)\n    \n    # define the model\n    gbr = GradientBoostingRegressor(**params)\n    \n    #print(i, y_train)\n  \n    # train the model\n    gbr.fit(x_train_reshape, y_train)\n\n    # use the model to predict\n    y_hat = gbr.predict(x_test_reshape)\n    \n    # create a dataframe to store the errors/score for each iteration  \n    errors_mae.append(y_hat - y_test)\n    errors_rmsle.append((np.log(y_hat+1) - np.log(y_test+1))**2)\n    errors_rmse.append((y_hat - y_test)**2)\n \n"
        },
        {
            "cell_type": "markdown",
            "metadata": {},
            "source": "## Evaluate the Gradient Boosted Regression Model"
        },
        {
            "cell_type": "code",
            "execution_count": 21,
            "metadata": {},
            "outputs": [
                {
                    "name": "stdout",
                    "output_type": "stream",
                    "text": "Mean Absolute Error:  1.17165\nRoot Mean Squared Logarithmic Error:  0.30490\nRoot Mean Squared Error:  0.43243\n"
                }
            ],
            "source": "errors_mae = pd.DataFrame(errors_mae)\nerrors_rmsle = pd.DataFrame(errors_rmsle)\nerrors_rmse = pd.DataFrame(errors_rmse)\n\n# calculate evaluation metrics\nmae = (np.absolute(errors_mae.sum(axis=0))).mean()\nrmsle = np.sqrt(((errors_rmsle.sum(axis=0)).mean()))\nrmse = np.sqrt(((errors_rmse.sum(axis=0)).mean()))\n\n# print the metrics\nprint(f\"Mean Absolute Error: {mae: 0.5f}\")\nprint(f\"Root Mean Squared Logarithmic Error: {rmsle: 0.5f}\")\nprint(f\"Root Mean Squared Error: {rmse: 0.5f}\")\n"
        },
        {
            "cell_type": "code",
            "execution_count": 22,
            "metadata": {},
            "outputs": [
                {
                    "data": {
                        "text/html": "<div>\n<style scoped>\n    .dataframe tbody tr th:only-of-type {\n        vertical-align: middle;\n    }\n\n    .dataframe tbody tr th {\n        vertical-align: top;\n    }\n\n    .dataframe thead th {\n        text-align: right;\n    }\n</style>\n<table border=\"1\" class=\"dataframe\">\n  <thead>\n    <tr style=\"text-align: right;\">\n      <th></th>\n      <th>GBR Metrics</th>\n      <th>{'n_estimators': 100, 'max_depth': 5, 'learning_rate': 0.1, 'criterion': 'friedman_mse'}</th>\n    </tr>\n  </thead>\n  <tbody>\n    <tr>\n      <th>0</th>\n      <td>Mean Absolute Error</td>\n      <td>1.171655</td>\n    </tr>\n    <tr>\n      <th>1</th>\n      <td>Root Mean Squared Logarithmic Error</td>\n      <td>0.304899</td>\n    </tr>\n    <tr>\n      <th>2</th>\n      <td>Root Mean Squared Error</td>\n      <td>0.432432</td>\n    </tr>\n  </tbody>\n</table>\n</div>",
                        "text/plain": "                           GBR Metrics  \\\n0                  Mean Absolute Error   \n1  Root Mean Squared Logarithmic Error   \n2              Root Mean Squared Error   \n\n   {'n_estimators': 100, 'max_depth': 5, 'learning_rate': 0.1, 'criterion': 'friedman_mse'}  \n0                                           1.171655                                         \n1                                           0.304899                                         \n2                                           0.432432                                         "
                    },
                    "execution_count": 22,
                    "metadata": {},
                    "output_type": "execute_result"
                }
            ],
            "source": "eval_matrix = {'GBR Metrics':['Mean Absolute Error', 'Root Mean Squared Logarithmic Error', 'Root Mean Squared Error'], f'{params}':[mae, rmsle, rmse]}\n\neval_matrix = pd.DataFrame(eval_matrix)\n\neval_matrix"
        }
    ],
    "metadata": {
        "kernelspec": {
            "display_name": "Python 3.6",
            "language": "python",
            "name": "python3"
        },
        "language_info": {
            "codemirror_mode": {
                "name": "ipython",
                "version": 3
            },
            "file_extension": ".py",
            "mimetype": "text/x-python",
            "name": "python",
            "nbconvert_exporter": "python",
            "pygments_lexer": "ipython3",
            "version": "3.6.9"
        }
    },
    "nbformat": 4,
    "nbformat_minor": 1
}