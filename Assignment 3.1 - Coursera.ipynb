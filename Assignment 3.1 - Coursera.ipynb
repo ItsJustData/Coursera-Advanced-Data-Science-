{
    "cells": [
        {
            "cell_type": "markdown",
            "metadata": {},
            "source": "## Student: David Anim-Addo\n## Course: Fundamentals of Scalable Data Science\n## Date: 2-22-20"
        },
        {
            "cell_type": "markdown",
            "metadata": {},
            "source": "# Assignment 3\n\nWelcome to Assignment 3. This will be even more fun. Now we will calculate statistical measures. \n\n##\u00a0You only have to pass 4 out of 7 functions\n\nJust make sure you hit the play button on each cell from top to down. There are seven functions you have to implement. Please also make sure than on each change on a function you hit the play button again on the corresponding cell to make it available to the rest of this notebook."
        },
        {
            "cell_type": "markdown",
            "metadata": {},
            "source": "All functions can be implemented using DataFrames, ApacheSparkSQL or RDDs. We are only interested in the result. You are given the reference to the data frame in the \"df\" parameter and in case you want to use SQL just use the \"spark\" parameter which is a reference to the global SparkSession object. Finally if you want to use RDDs just use \"df.rdd\" for obtaining a reference to the underlying RDD object. But we discurage using RDD at this point in time.\n\nLet's start with the first function. Please calculate the minimal temperature for the test data set you have created. We've provided a little skeleton for you in case you want to use SQL. Everything can be implemented using SQL only if you like."
        },
        {
            "cell_type": "code",
            "execution_count": 1,
            "metadata": {},
            "outputs": [
                {
                    "name": "stdout",
                    "output_type": "stream",
                    "text": "Waiting for a Spark session to start...\nSpark Initialization Done! ApplicationId = app-20200224013424-0000\nKERNEL_ID = a3da45ed-cdcb-46c2-aac7-e54be11ff369\n"
                }
            ],
            "source": "def minTemperature(x):\n    #TODO Please enter your code here, you are not required to use the template code below\n    #some reference: https://spark.apache.org/docs/latest/api/python/pyspark.sql.html#pyspark.sql.DataFrame\n    mintemp = x.min()\n    return mintemp"
        },
        {
            "cell_type": "markdown",
            "metadata": {},
            "source": "Please now do the same for the mean of the temperature"
        },
        {
            "cell_type": "code",
            "execution_count": 2,
            "metadata": {},
            "outputs": [],
            "source": "def meanTemperature(x):\n    #TODO Please enter your code here, you are not required to use the template code below\n    #some reference: https://spark.apache.org/docs/latest/api/python/pyspark.sql.html#pyspark.sql.DataFrame\n    sum = x.sum()\n    n = x.count()\n    meantemp = sum/float(n)  \n    return meantemp"
        },
        {
            "cell_type": "markdown",
            "metadata": {},
            "source": "Please now do the same for the maximum of the temperature"
        },
        {
            "cell_type": "code",
            "execution_count": 3,
            "metadata": {},
            "outputs": [],
            "source": "def maxTemperature(x):\n    #TODO Please enter your code here, you are not required to use the template code below\n    #some reference: https://spark.apache.org/docs/latest/api/python/pyspark.sql.html#pyspark.sql.DataFrame\n    maxtemp = x.max()\n    return maxtemp"
        },
        {
            "cell_type": "markdown",
            "metadata": {},
            "source": "Please now do the same for the standard deviation of the temperature"
        },
        {
            "cell_type": "code",
            "execution_count": 4,
            "metadata": {},
            "outputs": [],
            "source": "def sdTemperature(x):\n    #TODO Please enter your code here, you are not required to use the template code below\n    #some reference: https://spark.apache.org/docs/latest/api/python/pyspark.sql.html#pyspark.sql.DataFrame\n    #https://spark.apache.org/docs/2.3.0/api/sql/\n    from math import sqrt\n    #Find the mean\n    sum = x.sum()\n    n = x.count()\n    mean = sum/float(n)    \n    #Find the standard deviation\n    sdtemp = sqrt(x.map(lambda a: pow(a-mean,2)).sum()/n)    \n    return sdtemp"
        },
        {
            "cell_type": "markdown",
            "metadata": {},
            "source": "Please now do the same for the skew of the temperature. Since the SQL statement for this is a bit more complicated we've provided a skeleton for you. You have to insert custom code at four positions in order to make the function work. Alternatively you can also remove everything and implement if on your own. Note that we are making use of two previously defined functions, so please make sure they are correct. Also note that we are making use of python's string formatting capabilitis where the results of the two function calls to \"meanTemperature\" and \"sdTemperature\" are inserted at the \"%s\" symbols in the SQL string."
        },
        {
            "cell_type": "code",
            "execution_count": 5,
            "metadata": {},
            "outputs": [],
            "source": "def skewTemperature(x):    \n    #Find the mean\n    sum = x.sum()\n    n = x.count()\n    mean = sum/float(n)\n    #Find the standard deviation\n    from math import sqrt\n    sd = sqrt(x.map(lambda a: pow(a-mean,2)).sum()/n)\n    #Find the skew\n    skewtemp = (1/n)*x.map(lambda a: pow(a-mean,3)/pow(sd,3)).sum()\n    return skewtemp\n"
        },
        {
            "cell_type": "markdown",
            "metadata": {},
            "source": "Kurtosis is the 4th statistical moment, so if you are smart you can make use of the code for skew which is the 3rd statistical moment. Actually only two things are different."
        },
        {
            "cell_type": "code",
            "execution_count": 6,
            "metadata": {},
            "outputs": [],
            "source": "def kurtosisTemperature(x):    \n    #Find the mean\n    sum = x.sum()\n    n = x.count()\n    mean = sum/float(n)\n    #Find the standard deviation\n    from math import sqrt\n    sd = sqrt(x.map(lambda a: pow(a-mean,2)).sum()/n)\n    #Find the kurtosis\n    kurtemp = (1/n)*x.map(lambda a: pow(a-mean,4)/pow(sd,4)).sum()\n    return kurtemp\n"
        },
        {
            "cell_type": "markdown",
            "metadata": {},
            "source": "Just a hint. This can be solved easily using SQL as well, but as shown in the lecture also using RDDs."
        },
        {
            "cell_type": "code",
            "execution_count": 28,
            "metadata": {},
            "outputs": [],
            "source": "def correlationTemperatureHardness(x,y):\n    #TODO Please enter your code here, you are not required to use the template code below\n    #some reference: https://spark.apache.org/docs/latest/api/python/pyspark.sql.html#pyspark.sql.DataFrame\n    #https://spark.apache.org/docs/2.3.0/api/sql/\n    #Find the means\n    meanX = x.sum()/float(x.count())\n    meanY = y.sum()/float(y.count())\n    #Find the covariance\n    covXY = x.cov(y)\n    #Find the standard deviation    \n    assert x.count() == y.count()\n    n = float(x.count())    \n    from math import sqrt\n    sdX = sqrt(x.map(lambda x: pow(x-meanX,2)).sum()/n)\n    sdY = sqrt(y.map(lambda y: pow(y-meanY,2)).sum()/n)\n    #Find the correlation\n    corrtemp = covXY/(sdX*sdY)    \n    return corrtemp"
        },
        {
            "cell_type": "markdown",
            "metadata": {},
            "source": "Now it is time to grab a PARQUET file and create a dataframe out of it. Using SparkSQL you can handle it like a database. "
        },
        {
            "cell_type": "code",
            "execution_count": 8,
            "metadata": {},
            "outputs": [
                {
                    "name": "stdout",
                    "output_type": "stream",
                    "text": "--2020-02-24 01:34:27--  https://github.com/IBM/coursera/blob/master/coursera_ds/washing.parquet?raw=true\nResolving github.com (github.com)... 140.82.114.3\nConnecting to github.com (github.com)|140.82.114.3|:443... connected.\nHTTP request sent, awaiting response... 302 Found\nLocation: https://github.com/IBM/coursera/raw/master/coursera_ds/washing.parquet [following]\n--2020-02-24 01:34:27--  https://github.com/IBM/coursera/raw/master/coursera_ds/washing.parquet\nReusing existing connection to github.com:443.\nHTTP request sent, awaiting response... 302 Found\nLocation: https://raw.githubusercontent.com/IBM/coursera/master/coursera_ds/washing.parquet [following]\n--2020-02-24 01:34:27--  https://raw.githubusercontent.com/IBM/coursera/master/coursera_ds/washing.parquet\nResolving raw.githubusercontent.com (raw.githubusercontent.com)... 199.232.8.133\nConnecting to raw.githubusercontent.com (raw.githubusercontent.com)|199.232.8.133|:443... connected.\nHTTP request sent, awaiting response... 200 OK\nLength: 112048 (109K) [application/octet-stream]\nSaving to: 'washing.parquet?raw=true'\n\n100%[======================================>] 112,048     --.-K/s   in 0.01s   \n\n2020-02-24 01:34:27 (8.53 MB/s) - 'washing.parquet?raw=true' saved [112048/112048]\n\n"
                }
            ],
            "source": "!wget https://github.com/IBM/coursera/blob/master/coursera_ds/washing.parquet?raw=true\n!mv washing.parquet?raw=true washing.parquet"
        },
        {
            "cell_type": "code",
            "execution_count": 10,
            "metadata": {
                "scrolled": true
            },
            "outputs": [
                {
                    "name": "stderr",
                    "output_type": "stream",
                    "text": "/opt/ibm/conda/miniconda3.6/lib/python3.6/site-packages/pyarrow/pandas_compat.py:752: FutureWarning: .labels was deprecated in version 0.24.0. Use .codes instead.\n  labels, = index.labels\n"
                },
                {
                    "data": {
                        "text/html": "<div>\n<style scoped>\n    .dataframe tbody tr th:only-of-type {\n        vertical-align: middle;\n    }\n\n    .dataframe tbody tr th {\n        vertical-align: top;\n    }\n\n    .dataframe thead th {\n        text-align: right;\n    }\n</style>\n<table border=\"1\" class=\"dataframe\">\n  <thead>\n    <tr style=\"text-align: right;\">\n      <th></th>\n      <th>_id</th>\n      <th>_rev</th>\n      <th>count</th>\n      <th>flowrate</th>\n      <th>fluidlevel</th>\n      <th>frequency</th>\n      <th>hardness</th>\n      <th>speed</th>\n      <th>temperature</th>\n      <th>ts</th>\n      <th>voltage</th>\n    </tr>\n  </thead>\n  <tbody>\n    <tr>\n      <th>0</th>\n      <td>0d86485d0f88d1f9d60bd193a4306793</td>\n      <td>1-57940679fb8a713bc46a033b3c495cbe</td>\n      <td>4</td>\n      <td>11.0</td>\n      <td>acceptable</td>\n      <td>NaN</td>\n      <td>77.0</td>\n      <td>NaN</td>\n      <td>100.0</td>\n      <td>1547808723923</td>\n      <td>NaN</td>\n    </tr>\n    <tr>\n      <th>1</th>\n      <td>0d86485d0f88d1f9d60bd193a4306ee1</td>\n      <td>1-15ff3a0b304d789e16a71f4b3e540920</td>\n      <td>2</td>\n      <td>NaN</td>\n      <td>None</td>\n      <td>NaN</td>\n      <td>NaN</td>\n      <td>1046.0</td>\n      <td>NaN</td>\n      <td>1547808729917</td>\n      <td>NaN</td>\n    </tr>\n    <tr>\n      <th>2</th>\n      <td>0d86485d0f88d1f9d60bd193a4307322</td>\n      <td>1-97c2742b68c7b07c2091d817e839f693</td>\n      <td>4</td>\n      <td>NaN</td>\n      <td>None</td>\n      <td>71.0</td>\n      <td>NaN</td>\n      <td>NaN</td>\n      <td>NaN</td>\n      <td>1547808731918</td>\n      <td>236.0</td>\n    </tr>\n    <tr>\n      <th>3</th>\n      <td>0d86485d0f88d1f9d60bd193a43080fc</td>\n      <td>1-eefb903dbe4574667b7410be306cf741</td>\n      <td>19</td>\n      <td>11.0</td>\n      <td>acceptable</td>\n      <td>NaN</td>\n      <td>75.0</td>\n      <td>NaN</td>\n      <td>86.0</td>\n      <td>1547808738999</td>\n      <td>NaN</td>\n    </tr>\n    <tr>\n      <th>4</th>\n      <td>0d86485d0f88d1f9d60bd193a4308701</td>\n      <td>1-5f68b4c72813c25e12d91004ddb33b1b</td>\n      <td>7</td>\n      <td>NaN</td>\n      <td>None</td>\n      <td>75.0</td>\n      <td>NaN</td>\n      <td>NaN</td>\n      <td>NaN</td>\n      <td>1547808740927</td>\n      <td>235.0</td>\n    </tr>\n  </tbody>\n</table>\n</div>",
                        "text/plain": "                                _id                                _rev  \\\n0  0d86485d0f88d1f9d60bd193a4306793  1-57940679fb8a713bc46a033b3c495cbe   \n1  0d86485d0f88d1f9d60bd193a4306ee1  1-15ff3a0b304d789e16a71f4b3e540920   \n2  0d86485d0f88d1f9d60bd193a4307322  1-97c2742b68c7b07c2091d817e839f693   \n3  0d86485d0f88d1f9d60bd193a43080fc  1-eefb903dbe4574667b7410be306cf741   \n4  0d86485d0f88d1f9d60bd193a4308701  1-5f68b4c72813c25e12d91004ddb33b1b   \n\n   count  flowrate  fluidlevel  frequency  hardness   speed  temperature  \\\n0      4      11.0  acceptable        NaN      77.0     NaN        100.0   \n1      2       NaN        None        NaN       NaN  1046.0          NaN   \n2      4       NaN        None       71.0       NaN     NaN          NaN   \n3     19      11.0  acceptable        NaN      75.0     NaN         86.0   \n4      7       NaN        None       75.0       NaN     NaN          NaN   \n\n              ts  voltage  \n0  1547808723923      NaN  \n1  1547808729917      NaN  \n2  1547808731918    236.0  \n3  1547808738999      NaN  \n4  1547808740927    235.0  "
                    },
                    "execution_count": 10,
                    "metadata": {},
                    "output_type": "execute_result"
                }
            ],
            "source": "import pandas as pd\ndf = pd.read_parquet('washing.parquet')\ndftemp = df.temperature\ndfhard = df.hardness\ndf.head()"
        },
        {
            "cell_type": "markdown",
            "metadata": {},
            "source": "Now let's test the functions you've implemented"
        },
        {
            "cell_type": "code",
            "execution_count": 11,
            "metadata": {},
            "outputs": [
                {
                    "name": "stdout",
                    "output_type": "stream",
                    "text": "80.0\n"
                }
            ],
            "source": "min_temperature = minTemperature(dftemp)\nprint(min_temperature)"
        },
        {
            "cell_type": "code",
            "execution_count": 12,
            "metadata": {},
            "outputs": [
                {
                    "name": "stdout",
                    "output_type": "stream",
                    "text": "90.03800298062593\n"
                }
            ],
            "source": "mean_temperature = meanTemperature(dftemp)\nprint(mean_temperature)"
        },
        {
            "cell_type": "code",
            "execution_count": 13,
            "metadata": {},
            "outputs": [
                {
                    "name": "stdout",
                    "output_type": "stream",
                    "text": "100.0\n"
                }
            ],
            "source": "max_temperature = maxTemperature(dftemp)\nprint(max_temperature)"
        },
        {
            "cell_type": "code",
            "execution_count": 14,
            "metadata": {},
            "outputs": [
                {
                    "name": "stdout",
                    "output_type": "stream",
                    "text": "6.098487624200335\n"
                }
            ],
            "source": "sd_temperature = sdTemperature(dftemp)\nprint(sd_temperature)"
        },
        {
            "cell_type": "code",
            "execution_count": 15,
            "metadata": {},
            "outputs": [
                {
                    "name": "stdout",
                    "output_type": "stream",
                    "text": "0.010410008042944355\n"
                }
            ],
            "source": "skew_temperature = skewTemperature(dftemp)\nprint(skew_temperature)"
        },
        {
            "cell_type": "code",
            "execution_count": 16,
            "metadata": {},
            "outputs": [
                {
                    "name": "stdout",
                    "output_type": "stream",
                    "text": "1.7760730694213125\n"
                }
            ],
            "source": "kurtosis_temperature = kurtosisTemperature(dftemp)\nprint(kurtosis_temperature)"
        },
        {
            "cell_type": "code",
            "execution_count": 29,
            "metadata": {
                "scrolled": true
            },
            "outputs": [
                {
                    "name": "stdout",
                    "output_type": "stream",
                    "text": "0.01776730847238748\n"
                }
            ],
            "source": "correlation_temperature = correlationTemperatureHardness(dftemp, dfhard)\nprint(correlation_temperature)"
        },
        {
            "cell_type": "markdown",
            "metadata": {},
            "source": "Congratulations, you are done, please submit this notebook to the grader. \nWe have to install a little library in order to submit to coursera first.\n\nThen, please provide your email address and obtain a submission token on the grader\u2019s submission page in coursera, then execute the subsequent cells\n\n### Note: We've changed the grader in this assignment and will do so for the others soon since it gives less errors\nThis means you can directly submit your solutions from this notebook"
        },
        {
            "cell_type": "code",
            "execution_count": null,
            "metadata": {},
            "outputs": [],
            "source": "# The code was removed by Watson Studio for sharing."
        },
        {
            "cell_type": "code",
            "execution_count": null,
            "metadata": {},
            "outputs": [],
            "source": "# The code was removed by Watson Studio for sharing."
        },
        {
            "cell_type": "code",
            "execution_count": null,
            "metadata": {},
            "outputs": [],
            "source": "# The code was removed by Watson Studio for sharing."
        }
    ],
    "metadata": {
        "kernelspec": {
            "display_name": "Python 3.6 with Spark",
            "language": "python3",
            "name": "python36"
        },
        "language_info": {
            "codemirror_mode": {
                "name": "ipython",
                "version": 3
            },
            "file_extension": ".py",
            "mimetype": "text/x-python",
            "name": "python",
            "nbconvert_exporter": "python",
            "pygments_lexer": "ipython3",
            "version": "3.6.8"
        }
    },
    "nbformat": 4,
    "nbformat_minor": 1
}